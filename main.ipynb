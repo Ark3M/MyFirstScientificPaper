{
 "cells": [
  {
   "cell_type": "markdown",
   "id": "84dd4b03a4600510",
   "metadata": {
    "collapsed": false
   },
   "source": [
    "# Rejection-based EEG Signal Classification"
   ]
  },
  {
   "cell_type": "markdown",
   "id": "3b8867c91c1dd6f4",
   "metadata": {
    "collapsed": false
   },
   "source": [
    "## Import Libraries"
   ]
  },
  {
   "cell_type": "code",
   "execution_count": 2,
   "id": "initial_id",
   "metadata": {
    "ExecuteTime": {
     "end_time": "2024-04-04T15:29:36.839807500Z",
     "start_time": "2024-04-04T15:29:36.663065500Z"
    },
    "collapsed": true
   },
   "outputs": [],
   "source": [
    "import warnings\n",
    "\n",
    "import matplotlib.pyplot as plt\n",
    "import moabb\n",
    "import numpy as np\n",
    "import pandas as pd\n",
    "import seaborn as sns\n",
    "from mne.decoding import CSP\n",
    "from moabb.datasets import BNCI2014_001, Cho2017, Lee2019_MI\n",
    "from moabb.evaluations import (\n",
    "    CrossSessionEvaluation,\n",
    "    CrossSubjectEvaluation,\n",
    "    WithinSessionEvaluation,\n",
    ")\n",
    "from moabb.paradigms import LeftRightImagery, MotorImagery\n",
    "from pyriemann.estimation import Covariances\n",
    "from pyriemann.tangentspace import TangentSpace\n",
    "from sklearn.discriminant_analysis import LinearDiscriminantAnalysis as LDA\n",
    "from sklearn.linear_model import LogisticRegression\n",
    "from sklearn.metrics import roc_auc_score\n",
    "from sklearn.model_selection import train_test_split\n",
    "from sklearn.naive_bayes import GaussianNB\n",
    "from sklearn.pipeline import make_pipeline\n",
    "\n",
    "moabb.set_log_level(\"info\")\n",
    "warnings.filterwarnings(\"ignore\")\n",
    "moabb.set_log_level(\"info\")\n",
    "warnings.filterwarnings(\"ignore\")"
   ]
  },
  {
   "cell_type": "markdown",
   "id": "4330516cbf130308",
   "metadata": {
    "collapsed": false
   },
   "source": [
    "## Instantiate Datasets"
   ]
  },
  {
   "cell_type": "code",
   "execution_count": 20,
   "id": "1527f20db342485e",
   "metadata": {
    "ExecuteTime": {
     "end_time": "2024-04-04T15:29:36.873842500Z",
     "start_time": "2024-04-04T15:29:36.844789900Z"
    },
    "collapsed": false
   },
   "outputs": [],
   "source": [
    "dataset_BNCI2014_001 = BNCI2014_001()\n",
    "dataset_BNCI2014_001.subject_list = dataset_BNCI2014_001.subject_list[:1]\n",
    "\n",
    "# datasets = [dataset_BNCI2014_001]"
   ]
  },
  {
   "cell_type": "code",
   "execution_count": 3,
   "id": "d0af36c3",
   "metadata": {},
   "outputs": [],
   "source": [
    "datasets = [BNCI2014_001(), Cho2017(), Lee2019_MI()]"
   ]
  },
  {
   "cell_type": "markdown",
   "id": "70f403b39c6635a6",
   "metadata": {
    "collapsed": false
   },
   "source": [
    "An example of an EEG record obtained under the `mne` format, stored in a dictionary of sessions and runs."
   ]
  },
  {
   "cell_type": "code",
   "execution_count": 28,
   "id": "b8991768bece9842",
   "metadata": {
    "ExecuteTime": {
     "end_time": "2024-04-04T15:29:39.363898700Z",
     "start_time": "2024-04-04T15:29:36.872843300Z"
    },
    "collapsed": false
   },
   "outputs": [],
   "source": [
    "sessions = dataset_BNCI2014_001.get_data()"
   ]
  },
  {
   "cell_type": "code",
   "execution_count": 22,
   "id": "bfee8372ddae931f",
   "metadata": {
    "ExecuteTime": {
     "end_time": "2024-04-04T15:29:39.419079100Z",
     "start_time": "2024-04-04T15:29:39.365891200Z"
    },
    "collapsed": false
   },
   "outputs": [
    {
     "data": {
      "text/plain": [
       "{1: {'0train': {'0': <RawArray | 26 x 96735 (386.9 s), ~19.2 MB, data loaded>,\n",
       "   '1': <RawArray | 26 x 96735 (386.9 s), ~19.2 MB, data loaded>,\n",
       "   '2': <RawArray | 26 x 96735 (386.9 s), ~19.2 MB, data loaded>,\n",
       "   '3': <RawArray | 26 x 96735 (386.9 s), ~19.2 MB, data loaded>,\n",
       "   '4': <RawArray | 26 x 96735 (386.9 s), ~19.2 MB, data loaded>,\n",
       "   '5': <RawArray | 26 x 96735 (386.9 s), ~19.2 MB, data loaded>},\n",
       "  '1test': {'0': <RawArray | 26 x 96735 (386.9 s), ~19.2 MB, data loaded>,\n",
       "   '1': <RawArray | 26 x 96735 (386.9 s), ~19.2 MB, data loaded>,\n",
       "   '2': <RawArray | 26 x 96735 (386.9 s), ~19.2 MB, data loaded>,\n",
       "   '3': <RawArray | 26 x 96735 (386.9 s), ~19.2 MB, data loaded>,\n",
       "   '4': <RawArray | 26 x 96735 (386.9 s), ~19.2 MB, data loaded>,\n",
       "   '5': <RawArray | 26 x 96735 (386.9 s), ~19.2 MB, data loaded>}}}"
      ]
     },
     "execution_count": 22,
     "metadata": {},
     "output_type": "execute_result"
    }
   ],
   "source": [
    "sessions"
   ]
  },
  {
   "cell_type": "markdown",
   "id": "b4a525055f6abfd0",
   "metadata": {
    "collapsed": false
   },
   "source": [
    "## Choose a Paradigm"
   ]
  },
  {
   "cell_type": "markdown",
   "id": "9e481b50",
   "metadata": {},
   "source": [
    "An example of a paradigm."
   ]
  },
  {
   "cell_type": "code",
   "execution_count": 23,
   "id": "4569a3201976288f",
   "metadata": {
    "ExecuteTime": {
     "end_time": "2024-04-04T15:29:39.454226Z",
     "start_time": "2024-04-04T15:29:39.397048Z"
    },
    "collapsed": false
   },
   "outputs": [
    {
     "name": "stdout",
     "output_type": "stream",
     "text": [
      "imagery\n"
     ]
    }
   ],
   "source": [
    "print(dataset_BNCI2014_001.paradigm)"
   ]
  },
  {
   "cell_type": "code",
   "execution_count": 6,
   "id": "ba55adb0217bf4dd",
   "metadata": {
    "ExecuteTime": {
     "end_time": "2024-04-04T15:29:39.537494900Z",
     "start_time": "2024-04-04T15:29:39.446183600Z"
    },
    "collapsed": false
   },
   "outputs": [],
   "source": [
    "paradigm = LeftRightImagery()"
   ]
  },
  {
   "cell_type": "code",
   "execution_count": 7,
   "id": "aeaaa7130fec5fb5",
   "metadata": {
    "ExecuteTime": {
     "end_time": "2024-04-04T15:29:39.615058800Z",
     "start_time": "2024-04-04T15:29:39.537494900Z"
    },
    "collapsed": false
   },
   "outputs": [
    {
     "data": {
      "text/plain": [
       "[<moabb.datasets.bnci.BNCI2014_001 at 0x7f448baee6d0>,\n",
       " <moabb.datasets.bnci.BNCI2014_004 at 0x7f448a0b5a10>,\n",
       " <moabb.datasets.gigadb.Cho2017 at 0x7f448a57f7d0>,\n",
       " <moabb.datasets.mpi_mi.GrosseWentrup2009 at 0x7f448b29e050>,\n",
       " <moabb.datasets.Lee2019.Lee2019_MI at 0x7f44a7185cd0>,\n",
       " <moabb.datasets.physionet_mi.PhysionetMI at 0x7f448a58acd0>,\n",
       " <moabb.datasets.schirrmeister2017.Schirrmeister2017 at 0x7f448ae05cd0>,\n",
       " <moabb.datasets.bbci_eeg_fnirs.Shin2017A at 0x7f448bb0c710>,\n",
       " <moabb.datasets.stieger2021.Stieger2021 at 0x7f44d12d4210>,\n",
       " <moabb.datasets.Weibo2014.Weibo2014 at 0x7f448a086a50>,\n",
       " <moabb.datasets.Zhou2016.Zhou2016 at 0x7f448a09d990>]"
      ]
     },
     "execution_count": 7,
     "metadata": {},
     "output_type": "execute_result"
    }
   ],
   "source": [
    "paradigm.datasets"
   ]
  },
  {
   "cell_type": "markdown",
   "id": "1419ceb9",
   "metadata": {},
   "source": [
    "The metric depends on the paradigm and the number of classes used with it. See `paradigm.__doc__` for more details. In the `LeftRightImagery()` case there are 2 classes."
   ]
  },
  {
   "cell_type": "code",
   "execution_count": 8,
   "id": "35b58e47",
   "metadata": {},
   "outputs": [
    {
     "name": "stdout",
     "output_type": "stream",
     "text": [
      "roc_auc\n"
     ]
    }
   ],
   "source": [
    "metric = paradigm.scoring\n",
    "print(metric)"
   ]
  },
  {
   "cell_type": "markdown",
   "id": "47f59c913e8da2ff",
   "metadata": {
    "collapsed": false
   },
   "source": [
    "## Unpack Datasets"
   ]
  },
  {
   "cell_type": "markdown",
   "id": "4dd01005479f47ed",
   "metadata": {
    "collapsed": false
   },
   "source": [
    "The data stored in the `sklearn` format."
   ]
  },
  {
   "cell_type": "markdown",
   "id": "54aadcdf",
   "metadata": {},
   "source": [
    "### BNCI2014_001"
   ]
  },
  {
   "cell_type": "code",
   "execution_count": 34,
   "id": "9a43d3511d3bd1d5",
   "metadata": {
    "ExecuteTime": {
     "end_time": "2024-04-04T15:29:42.441175800Z",
     "start_time": "2024-04-04T15:29:39.617074Z"
    },
    "collapsed": false
   },
   "outputs": [
    {
     "name": "stderr",
     "output_type": "stream",
     "text": [
      "Downloading data from 'http://bnci-horizon-2020.eu/database/data-sets/001-2014/A05T.mat' to file '/home/artyommatveev/mne_data/MNE-bnci-data/database/data-sets/001-2014/A05T.mat'.\n",
      "100%|█████████████████████████████████████| 42.5M/42.5M [00:00<00:00, 32.8GB/s]\n",
      "SHA256 hash of downloaded file: 77387d3b669f4ed9a7c1dac4dcba4c2c40c8910bae20fb961bb7cf5a94912950\n",
      "Use this value as the 'known_hash' argument of 'pooch.retrieve' to ensure that the file hasn't changed if it is downloaded again in the future.\n",
      "Downloading data from 'http://bnci-horizon-2020.eu/database/data-sets/001-2014/A05E.mat' to file '/home/artyommatveev/mne_data/MNE-bnci-data/database/data-sets/001-2014/A05E.mat'.\n",
      "100%|█████████████████████████████████████| 44.4M/44.4M [00:00<00:00, 38.6GB/s]\n",
      "SHA256 hash of downloaded file: 8b357470865610c28b2f1d351beac247a56a856f02b2859d650736eb2ef77808\n",
      "Use this value as the 'known_hash' argument of 'pooch.retrieve' to ensure that the file hasn't changed if it is downloaded again in the future.\n",
      "Downloading data from 'http://bnci-horizon-2020.eu/database/data-sets/001-2014/A06T.mat' to file '/home/artyommatveev/mne_data/MNE-bnci-data/database/data-sets/001-2014/A06T.mat'.\n",
      "100%|█████████████████████████████████████| 44.6M/44.6M [00:00<00:00, 38.4GB/s]\n",
      "SHA256 hash of downloaded file: 4dc3be1b0d60279134d1220323c73c68cf73799339a7fb224087a3c560a9a7e2\n",
      "Use this value as the 'known_hash' argument of 'pooch.retrieve' to ensure that the file hasn't changed if it is downloaded again in the future.\n",
      "Downloading data from 'http://bnci-horizon-2020.eu/database/data-sets/001-2014/A06E.mat' to file '/home/artyommatveev/mne_data/MNE-bnci-data/database/data-sets/001-2014/A06E.mat'.\n",
      "100%|█████████████████████████████████████| 43.4M/43.4M [00:00<00:00, 36.9GB/s]\n",
      "SHA256 hash of downloaded file: bf67a40621b74b6af7a986c2f6edfff7fc2bbbca237aadd07b575893032998d1\n",
      "Use this value as the 'known_hash' argument of 'pooch.retrieve' to ensure that the file hasn't changed if it is downloaded again in the future.\n",
      "Downloading data from 'http://bnci-horizon-2020.eu/database/data-sets/001-2014/A07T.mat' to file '/home/artyommatveev/mne_data/MNE-bnci-data/database/data-sets/001-2014/A07T.mat'.\n",
      "100%|█████████████████████████████████████| 42.8M/42.8M [00:00<00:00, 36.7GB/s]\n",
      "SHA256 hash of downloaded file: 43b6bbef0be78f0ac2b66cb2d9679091f1f5b7f0a5d4ebef73d2c7cc8e11aa96\n",
      "Use this value as the 'known_hash' argument of 'pooch.retrieve' to ensure that the file hasn't changed if it is downloaded again in the future.\n",
      "Downloading data from 'http://bnci-horizon-2020.eu/database/data-sets/001-2014/A07E.mat' to file '/home/artyommatveev/mne_data/MNE-bnci-data/database/data-sets/001-2014/A07E.mat'.\n",
      "100%|█████████████████████████████████████| 42.2M/42.2M [00:00<00:00, 20.7GB/s]\n",
      "SHA256 hash of downloaded file: b9aaec73dcee002fab84ee98e938039a67bf6a3cbf4fc86d5d8df198cfe4c323\n",
      "Use this value as the 'known_hash' argument of 'pooch.retrieve' to ensure that the file hasn't changed if it is downloaded again in the future.\n",
      "Downloading data from 'http://bnci-horizon-2020.eu/database/data-sets/001-2014/A08T.mat' to file '/home/artyommatveev/mne_data/MNE-bnci-data/database/data-sets/001-2014/A08T.mat'.\n",
      "100%|█████████████████████████████████████| 45.0M/45.0M [00:00<00:00, 27.8GB/s]\n",
      "SHA256 hash of downloaded file: 7a4b3bd602d5bc307d3f4527fca2cf076659e94aca584dd64f6286fd413a82f2\n",
      "Use this value as the 'known_hash' argument of 'pooch.retrieve' to ensure that the file hasn't changed if it is downloaded again in the future.\n",
      "Downloading data from 'http://bnci-horizon-2020.eu/database/data-sets/001-2014/A08E.mat' to file '/home/artyommatveev/mne_data/MNE-bnci-data/database/data-sets/001-2014/A08E.mat'.\n",
      "100%|█████████████████████████████████████| 46.3M/46.3M [00:00<00:00, 39.2GB/s]\n",
      "SHA256 hash of downloaded file: 0eedbd89790c7d621c8eef68065ddecf80d437bbbcf60321d9253e2305f294f7\n",
      "Use this value as the 'known_hash' argument of 'pooch.retrieve' to ensure that the file hasn't changed if it is downloaded again in the future.\n",
      "Downloading data from 'http://bnci-horizon-2020.eu/database/data-sets/001-2014/A09T.mat' to file '/home/artyommatveev/mne_data/MNE-bnci-data/database/data-sets/001-2014/A09T.mat'.\n",
      "100%|█████████████████████████████████████| 44.8M/44.8M [00:00<00:00, 19.2GB/s]\n",
      "SHA256 hash of downloaded file: b28d8a262c779c8cad9cc80ee6aa9c5691cfa6617c03befe490a090347ebd15c\n",
      "Use this value as the 'known_hash' argument of 'pooch.retrieve' to ensure that the file hasn't changed if it is downloaded again in the future.\n",
      "Downloading data from 'http://bnci-horizon-2020.eu/database/data-sets/001-2014/A09E.mat' to file '/home/artyommatveev/mne_data/MNE-bnci-data/database/data-sets/001-2014/A09E.mat'.\n",
      "100%|█████████████████████████████████████| 44.8M/44.8M [00:00<00:00, 36.6GB/s]\n",
      "SHA256 hash of downloaded file: 5d79649a42df9d51215def8ffbdaf1c3f76c54b88b9bbaae721e8c6fd972cc36\n",
      "Use this value as the 'known_hash' argument of 'pooch.retrieve' to ensure that the file hasn't changed if it is downloaded again in the future.\n"
     ]
    }
   ],
   "source": [
    "X, y, meta = paradigm.get_data(dataset=datasets[0])"
   ]
  },
  {
   "cell_type": "code",
   "execution_count": 35,
   "id": "73f3cd79b7cbcbdf",
   "metadata": {
    "ExecuteTime": {
     "end_time": "2024-04-04T15:29:42.461235100Z",
     "start_time": "2024-04-04T15:29:42.444175300Z"
    },
    "collapsed": false
   },
   "outputs": [
    {
     "name": "stdout",
     "output_type": "stream",
     "text": [
      "(2592, 22, 1001) <class 'numpy.ndarray'>\n"
     ]
    }
   ],
   "source": [
    "print(X.shape, type(X))"
   ]
  },
  {
   "cell_type": "code",
   "execution_count": 36,
   "id": "881dc25494be0c59",
   "metadata": {
    "ExecuteTime": {
     "end_time": "2024-04-04T15:29:42.539391600Z",
     "start_time": "2024-04-04T15:29:42.459227500Z"
    },
    "collapsed": false
   },
   "outputs": [
    {
     "name": "stdout",
     "output_type": "stream",
     "text": [
      "['right_hand' 'left_hand' 'left_hand' ... 'left_hand' 'right_hand'\n",
      " 'left_hand'] \n",
      " <class 'numpy.ndarray'>\n",
      "The number of labels: 2592\n"
     ]
    }
   ],
   "source": [
    "print(y, \"\\n\", type(y))\n",
    "print(\"The number of labels:\", len(y))"
   ]
  },
  {
   "cell_type": "code",
   "execution_count": 37,
   "id": "8662163e5b352cc6",
   "metadata": {
    "ExecuteTime": {
     "end_time": "2024-04-04T15:29:42.621231700Z",
     "start_time": "2024-04-04T15:29:42.539391600Z"
    },
    "collapsed": false
   },
   "outputs": [
    {
     "name": "stdout",
     "output_type": "stream",
     "text": [
      "      subject session run\n",
      "0           1  0train   0\n",
      "1           1  0train   0\n",
      "2           1  0train   0\n",
      "3           1  0train   0\n",
      "4           1  0train   0\n",
      "...       ...     ...  ..\n",
      "2587        9   1test   5\n",
      "2588        9   1test   5\n",
      "2589        9   1test   5\n",
      "2590        9   1test   5\n",
      "2591        9   1test   5\n",
      "\n",
      "[2592 rows x 3 columns]\n"
     ]
    }
   ],
   "source": [
    "print(meta)"
   ]
  },
  {
   "cell_type": "code",
   "execution_count": 38,
   "id": "fca27ebb7bfb950",
   "metadata": {
    "ExecuteTime": {
     "end_time": "2024-04-04T15:29:42.700700300Z",
     "start_time": "2024-04-04T15:29:42.623230800Z"
    },
    "collapsed": false
   },
   "outputs": [
    {
     "name": "stdout",
     "output_type": "stream",
     "text": [
      "['0train' '1test']\n"
     ]
    }
   ],
   "source": [
    "print(np.unique(meta[\"session\"]))"
   ]
  },
  {
   "cell_type": "markdown",
   "id": "36c47d0c",
   "metadata": {},
   "source": [
    "### Cho2017"
   ]
  },
  {
   "cell_type": "code",
   "execution_count": null,
   "id": "a1c1588f",
   "metadata": {},
   "outputs": [],
   "source": [
    "X, y, meta = paradigm.get_data(dataset=datasets[1])"
   ]
  },
  {
   "cell_type": "code",
   "execution_count": null,
   "id": "2ad485cf",
   "metadata": {},
   "outputs": [],
   "source": [
    "print(X.shape, type(X))"
   ]
  },
  {
   "cell_type": "code",
   "execution_count": null,
   "id": "f7dffbc4",
   "metadata": {},
   "outputs": [],
   "source": [
    "print(y, \"\\n\", type(y))\n",
    "print(\"The number of labels:\", len(y))"
   ]
  },
  {
   "cell_type": "code",
   "execution_count": null,
   "id": "dee0c9ae",
   "metadata": {},
   "outputs": [],
   "source": [
    "print(meta)"
   ]
  },
  {
   "cell_type": "code",
   "execution_count": null,
   "id": "40eee3fe",
   "metadata": {},
   "outputs": [],
   "source": [
    "print(np.unique(meta[\"session\"]))"
   ]
  },
  {
   "cell_type": "markdown",
   "id": "f8b5cf81",
   "metadata": {},
   "source": [
    "### Lee2019_MI"
   ]
  },
  {
   "cell_type": "code",
   "execution_count": null,
   "id": "5e22ac35",
   "metadata": {},
   "outputs": [],
   "source": [
    "X, y, meta = paradigm.get_data(dataset=datasets[2])"
   ]
  },
  {
   "cell_type": "code",
   "execution_count": null,
   "id": "ca52be22",
   "metadata": {},
   "outputs": [],
   "source": [
    "print(X.shape, type(X))"
   ]
  },
  {
   "cell_type": "code",
   "execution_count": null,
   "id": "bbeeb172",
   "metadata": {},
   "outputs": [],
   "source": [
    "print(y, \"\\n\", type(y))\n",
    "print(\"The number of labels:\", len(y))"
   ]
  },
  {
   "cell_type": "code",
   "execution_count": null,
   "id": "57e2f2b5",
   "metadata": {},
   "outputs": [],
   "source": [
    "print(meta)"
   ]
  },
  {
   "cell_type": "code",
   "execution_count": null,
   "id": "63ad89d1",
   "metadata": {},
   "outputs": [],
   "source": [
    "print(np.unique(meta[\"session\"]))"
   ]
  },
  {
   "cell_type": "markdown",
   "id": "c4e585cf",
   "metadata": {},
   "source": [
    "## Sample Size Estimation with Bootstrap"
   ]
  },
  {
   "cell_type": "markdown",
   "id": "ec70c01e",
   "metadata": {},
   "source": [
    "### BNCI2014_001"
   ]
  },
  {
   "cell_type": "code",
   "execution_count": 9,
   "id": "a321d043",
   "metadata": {},
   "outputs": [
    {
     "name": "stdout",
     "output_type": "stream",
     "text": [
      "(2592, 22, 1001) (2592,)\n"
     ]
    }
   ],
   "source": [
    "cov_matrices, labels, meta = paradigm.get_data(dataset=datasets[0])\n",
    "print(cov_matrices.shape, labels.shape)"
   ]
  },
  {
   "cell_type": "code",
   "execution_count": null,
   "id": "53558318",
   "metadata": {},
   "outputs": [],
   "source": [
    "# Define the number of bootstrap samples.\n",
    "num_bootstraps = 10\n",
    "\n",
    "# Define parameters for logistic regression model.\n",
    "solver = \"lbfgs\"\n",
    "random_state = 42\n",
    "\n",
    "# Define the range of sample sizes to test.\n",
    "step_size = cov_matrices.shape[0] // 5\n",
    "sample_sizes = range(step_size, cov_matrices.shape[0], step_size)\n",
    "\n",
    "# Initialize dictionary to store ROC AUC scores for each sample size.\n",
    "roc_auc_scores = {}\n",
    "\n",
    "# Perform bootstrapping for each sample size.\n",
    "for sample_size in sample_sizes:\n",
    "    # Initialize an array to store accuracy scores for the current sample size.\n",
    "    roc_auc_scores[sample_size] = []\n",
    "\n",
    "    # Perform bootstrapping.\n",
    "    for _ in range(num_bootstraps):\n",
    "        # Generate a bootstrap sample by randomly sampling from the original dataset with replacement.\n",
    "        bootstrap_indices = np.random.choice(\n",
    "            len(cov_matrices), size=sample_size, replace=True\n",
    "        )\n",
    "        X_bootstrap = cov_matrices[bootstrap_indices]\n",
    "        y_bootstrap = labels[bootstrap_indices]\n",
    "\n",
    "        # Split the data into training and validation sets.\n",
    "        X_train, X_val, y_train, y_val = train_test_split(\n",
    "            X_bootstrap, y_bootstrap, test_size=0.2, random_state=random_state\n",
    "        )\n",
    "\n",
    "        # Fit logistic regression model on the training data.\n",
    "        clf = make_pipeline(\n",
    "            Covariances(),\n",
    "            TangentSpace(),\n",
    "            LogisticRegression(solver=solver, random_state=random_state),\n",
    "        )\n",
    "        clf.fit(X_train, y_train)\n",
    "\n",
    "        # Predict probabilities on the validation set.\n",
    "        y_val_pred_proba = clf.predict_proba(X_val)[:, 1]\n",
    "\n",
    "        # Calculate the ROC AUC score and store it.\n",
    "        roc_auc = roc_auc_score(y_val, y_val_pred_proba)\n",
    "        roc_auc_scores[sample_size].append(roc_auc)\n",
    "\n",
    "# Calculate the mean ROC AUC scores for each sample size.\n",
    "mean_roc_auc_scores = {\n",
    "    sample_size: np.mean(scores) for sample_size, scores in roc_auc_scores.items()\n",
    "}\n",
    "\n",
    "# Choose the sample size with the highest mean ROC AUC score.\n",
    "optimal_sample_size = max(mean_roc_auc_scores, key=mean_roc_auc_scores.get)\n",
    "max_mean_roc_auc = mean_roc_auc_scores[optimal_sample_size]\n",
    "\n",
    "print(\"Optimal sample size:\", optimal_sample_size)\n",
    "print(\"Maximum mean ROC AUC score:\", max_mean_roc_auc)"
   ]
  },
  {
   "cell_type": "code",
   "execution_count": null,
   "id": "d1728e09",
   "metadata": {},
   "outputs": [],
   "source": [
    "# Extract the sample sizes and mean ROC AUC scores from the dictionary.\n",
    "sample_sizes = list(mean_roc_auc_scores.keys())\n",
    "mean_roc_auc_scores_values = list(mean_roc_auc_scores.values())\n",
    "\n",
    "# Plot ROC AUC vs Sample Size.\n",
    "plt.figure(figsize=(10, 6))\n",
    "plt.plot(sample_sizes, mean_roc_auc_scores_values, marker=\"o\", linestyle=\"-\")\n",
    "plt.title(\"ROC AUC vs Sample Size\")\n",
    "plt.xlabel(\"Sample Size\")\n",
    "plt.ylabel(\"Mean ROC AUC Score\")\n",
    "plt.grid(True)\n",
    "plt.tight_layout()\n",
    "plt.show()"
   ]
  },
  {
   "cell_type": "markdown",
   "id": "8c689899a8b923b7",
   "metadata": {
    "collapsed": false
   },
   "source": [
    "## Create a Pipeline"
   ]
  },
  {
   "cell_type": "code",
   "execution_count": null,
   "id": "e8c85bc399f3a6e3",
   "metadata": {
    "ExecuteTime": {
     "end_time": "2024-04-04T15:29:42.755730800Z",
     "start_time": "2024-04-04T15:29:42.702718300Z"
    },
    "collapsed": false
   },
   "outputs": [],
   "source": [
    "# pipelines = {}\n",
    "\n",
    "# pipelines[\"RG+LR\"] = make_pipeline(\n",
    "#     Covariances(), TangentSpace(), LogisticRegression(solver=\"lbfgs\")\n",
    "# )"
   ]
  },
  {
   "cell_type": "markdown",
   "id": "3b3a0406ee22a71e",
   "metadata": {
    "collapsed": false
   },
   "source": [
    "## Evaluate a Solution"
   ]
  },
  {
   "cell_type": "code",
   "execution_count": null,
   "id": "daa9e3c56fbf5133",
   "metadata": {
    "ExecuteTime": {
     "end_time": "2024-04-04T15:29:42.810997Z",
     "start_time": "2024-04-04T15:29:42.750724400Z"
    },
    "collapsed": false
   },
   "outputs": [],
   "source": [
    "# # Evaluate for a specific number of training samples per class.\n",
    "# data_size = dict(policy=\"per_class\", value=np.array([5, 10, 30, 50]))\n",
    "# # When the training data is sparse, perform more permutations than when we have a lot of data.\n",
    "# n_perms = np.floor(np.geomspace(20, 2, len(data_size[\"value\"]))).astype(int)"
   ]
  },
  {
   "cell_type": "code",
   "execution_count": null,
   "id": "df58013cb295f758",
   "metadata": {
    "ExecuteTime": {
     "end_time": "2024-04-04T15:29:42.905071100Z",
     "start_time": "2024-04-04T15:29:42.811993700Z"
    },
    "collapsed": false
   },
   "outputs": [],
   "source": [
    "# evaluation = WithinSessionEvaluation(\n",
    "#     paradigm=paradigm,\n",
    "#     datasets=datasets,\n",
    "#     overwrite=True,\n",
    "#     data_size=data_size,\n",
    "#     n_perms=n_perms,\n",
    "# )"
   ]
  },
  {
   "cell_type": "code",
   "execution_count": null,
   "id": "8b2c28a36d218692",
   "metadata": {
    "ExecuteTime": {
     "end_time": "2024-04-04T15:30:03.079536300Z",
     "start_time": "2024-04-04T15:29:42.906071600Z"
    },
    "collapsed": false
   },
   "outputs": [],
   "source": [
    "# results = evaluation.process(pipelines)"
   ]
  },
  {
   "cell_type": "code",
   "execution_count": null,
   "id": "ea10ac12a01a4bcd",
   "metadata": {
    "ExecuteTime": {
     "end_time": "2024-04-04T15:30:03.120741Z",
     "start_time": "2024-04-04T15:30:03.082633200Z"
    },
    "collapsed": false
   },
   "outputs": [],
   "source": [
    "# results.head(n=5)"
   ]
  },
  {
   "cell_type": "code",
   "execution_count": null,
   "id": "67bb4f12dfaecc66",
   "metadata": {
    "ExecuteTime": {
     "end_time": "2024-04-04T15:30:03.295140200Z",
     "start_time": "2024-04-04T15:30:03.115732900Z"
    },
    "collapsed": false
   },
   "outputs": [],
   "source": [
    "# results.to_csv(\"./results.csv\")"
   ]
  },
  {
   "cell_type": "code",
   "execution_count": null,
   "id": "bfb291c318b374d5",
   "metadata": {
    "ExecuteTime": {
     "end_time": "2024-04-04T15:30:03.308181900Z",
     "start_time": "2024-04-04T15:30:03.177803600Z"
    },
    "collapsed": false
   },
   "outputs": [],
   "source": [
    "# results = pd.read_csv(\"./results.csv\")"
   ]
  },
  {
   "cell_type": "markdown",
   "id": "8b4b029b820be4f3",
   "metadata": {
    "collapsed": false
   },
   "source": [
    "## Plot the Results"
   ]
  },
  {
   "cell_type": "code",
   "execution_count": null,
   "id": "e2746b9ec615c21c",
   "metadata": {
    "ExecuteTime": {
     "end_time": "2024-04-04T15:30:03.698437500Z",
     "start_time": "2024-04-04T15:30:03.258883700Z"
    },
    "collapsed": false
   },
   "outputs": [],
   "source": [
    "# fig, ax = plt.subplots(facecolor=\"white\", figsize=[8, 4])\n",
    "\n",
    "# n_subs = len(BNCI2014_001_dataset.subject_list)\n",
    "\n",
    "# if n_subs > 1:\n",
    "#     r = results.groupby([\"pipeline\", \"subject\", \"data_size\"]).mean().reset_index()\n",
    "# else:\n",
    "#     r = results\n",
    "\n",
    "# sns.pointplot(data=r, x=\"data_size\", y=\"score\", hue=\"pipeline\", ax=ax, palette=\"Set1\")\n",
    "\n",
    "# errbar_meaning = \"subjects\" if n_subs > 1 else \"permutations\"\n",
    "# title_str = f\"Error bar shows Mean-CI across {errbar_meaning}\"\n",
    "# ax.set_xlabel(\"Amount of training samples\")\n",
    "# ax.set_ylabel(\"ROC AUC\")\n",
    "# ax.set_title(title_str)\n",
    "# fig.tight_layout()\n",
    "# plt.show()"
   ]
  }
 ],
 "metadata": {
  "kernelspec": {
   "display_name": "Python 3",
   "language": "python",
   "name": "python3"
  },
  "language_info": {
   "codemirror_mode": {
    "name": "ipython",
    "version": 3
   },
   "file_extension": ".py",
   "mimetype": "text/x-python",
   "name": "python",
   "nbconvert_exporter": "python",
   "pygments_lexer": "ipython3",
   "version": "3.11.0"
  }
 },
 "nbformat": 4,
 "nbformat_minor": 5
}
