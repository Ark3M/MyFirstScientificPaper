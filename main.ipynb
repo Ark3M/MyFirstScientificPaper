{
 "cells": [
  {
   "cell_type": "markdown",
   "source": [
    "# Rejection-based EEG Signal Classification"
   ],
   "metadata": {
    "collapsed": false
   },
   "id": "84dd4b03a4600510"
  },
  {
   "cell_type": "markdown",
   "source": [
    "## Import Libraries"
   ],
   "metadata": {
    "collapsed": false
   },
   "id": "3b8867c91c1dd6f4"
  },
  {
   "cell_type": "code",
   "execution_count": 2,
   "id": "initial_id",
   "metadata": {
    "collapsed": true,
    "ExecuteTime": {
     "end_time": "2024-04-04T15:01:03.131825Z",
     "start_time": "2024-04-04T15:01:03.099782800Z"
    }
   },
   "outputs": [],
   "source": [
    "import warnings\n",
    "\n",
    "import matplotlib.pyplot as plt\n",
    "import moabb\n",
    "import numpy as np\n",
    "import pandas as pd\n",
    "import pyriemann\n",
    "import seaborn as sns\n",
    "from mne.decoding import CSP\n",
    "from moabb.datasets import BNCI2014_001, BNCI2014_004, Cho2017\n",
    "from moabb.evaluations import (CrossSessionEvaluation, CrossSubjectEvaluation,\n",
    "                               WithinSessionEvaluation)\n",
    "from moabb.paradigms import MotorImagery, LeftRightImagery\n",
    "from pyriemann.estimation import Covariances\n",
    "from pyriemann.tangentspace import TangentSpace\n",
    "import sklearn\n",
    "from sklearn.discriminant_analysis import LinearDiscriminantAnalysis as LDA\n",
    "from sklearn.linear_model import LogisticRegression\n",
    "from sklearn.metrics import accuracy_score\n",
    "from sklearn.naive_bayes import GaussianNB\n",
    "from sklearn.pipeline import make_pipeline\n",
    "\n",
    "moabb.set_log_level(\"info\")\n",
    "warnings.filterwarnings(\"ignore\")"
   ]
  },
  {
   "cell_type": "markdown",
   "source": [
    "## Instantiate a Dataset"
   ],
   "metadata": {
    "collapsed": false
   },
   "id": "4330516cbf130308"
  },
  {
   "cell_type": "code",
   "outputs": [],
   "source": [
    "dataset = BNCI2014_001()\n",
    "dataset.subject_list = dataset.subject_list[:1]\n",
    "\n",
    "datasets = [dataset]"
   ],
   "metadata": {
    "collapsed": false,
    "ExecuteTime": {
     "end_time": "2024-04-04T15:01:09.946291900Z",
     "start_time": "2024-04-04T15:01:09.895407900Z"
    }
   },
   "id": "1527f20db342485e",
   "execution_count": 4
  },
  {
   "cell_type": "markdown",
   "source": [
    "An example of an EEG record obtained under the `mne` format, stored in a dictionary of sessions and runs."
   ],
   "metadata": {
    "collapsed": false
   },
   "id": "70f403b39c6635a6"
  },
  {
   "cell_type": "code",
   "outputs": [],
   "source": [
    "sessions = dataset.get_data()"
   ],
   "metadata": {
    "collapsed": false,
    "ExecuteTime": {
     "end_time": "2024-04-04T10:40:17.484484500Z",
     "start_time": "2024-04-04T10:40:15.349841100Z"
    }
   },
   "id": "b8991768bece9842",
   "execution_count": 51
  },
  {
   "cell_type": "code",
   "outputs": [
    {
     "data": {
      "text/plain": "{1: {'0train': {'0': <RawArray | 26 x 96735 (386.9 s), ~19.2 MB, data loaded>,\n   '1': <RawArray | 26 x 96735 (386.9 s), ~19.2 MB, data loaded>,\n   '2': <RawArray | 26 x 96735 (386.9 s), ~19.2 MB, data loaded>,\n   '3': <RawArray | 26 x 96735 (386.9 s), ~19.2 MB, data loaded>,\n   '4': <RawArray | 26 x 96735 (386.9 s), ~19.2 MB, data loaded>,\n   '5': <RawArray | 26 x 96735 (386.9 s), ~19.2 MB, data loaded>},\n  '1test': {'0': <RawArray | 26 x 96735 (386.9 s), ~19.2 MB, data loaded>,\n   '1': <RawArray | 26 x 96735 (386.9 s), ~19.2 MB, data loaded>,\n   '2': <RawArray | 26 x 96735 (386.9 s), ~19.2 MB, data loaded>,\n   '3': <RawArray | 26 x 96735 (386.9 s), ~19.2 MB, data loaded>,\n   '4': <RawArray | 26 x 96735 (386.9 s), ~19.2 MB, data loaded>,\n   '5': <RawArray | 26 x 96735 (386.9 s), ~19.2 MB, data loaded>}}}"
     },
     "execution_count": 52,
     "metadata": {},
     "output_type": "execute_result"
    }
   ],
   "source": [
    "sessions"
   ],
   "metadata": {
    "collapsed": false,
    "ExecuteTime": {
     "end_time": "2024-04-04T10:40:18.479887600Z",
     "start_time": "2024-04-04T10:40:18.466310700Z"
    }
   },
   "id": "bfee8372ddae931f",
   "execution_count": 52
  },
  {
   "cell_type": "markdown",
   "source": [
    "## Choose a Paradigm"
   ],
   "metadata": {
    "collapsed": false
   },
   "id": "b4a525055f6abfd0"
  },
  {
   "cell_type": "code",
   "outputs": [
    {
     "name": "stdout",
     "output_type": "stream",
     "text": [
      "imagery\n"
     ]
    }
   ],
   "source": [
    "print(dataset.paradigm)"
   ],
   "metadata": {
    "collapsed": false,
    "ExecuteTime": {
     "end_time": "2024-04-04T14:35:08.252473700Z",
     "start_time": "2024-04-04T14:35:08.238617200Z"
    }
   },
   "id": "4569a3201976288f",
   "execution_count": 83
  },
  {
   "cell_type": "code",
   "outputs": [
    {
     "name": "stderr",
     "output_type": "stream",
     "text": [
      "2024-04-04 18:03:23,164 WARNING MainThread moabb.paradigms.motor_imagery Choosing from all possible events\n"
     ]
    }
   ],
   "source": [
    "paradigm = MotorImagery(n_classes=4)"
   ],
   "metadata": {
    "collapsed": false,
    "ExecuteTime": {
     "end_time": "2024-04-04T15:03:23.329476200Z",
     "start_time": "2024-04-04T15:03:23.166233100Z"
    }
   },
   "id": "ba55adb0217bf4dd",
   "execution_count": 14
  },
  {
   "cell_type": "code",
   "outputs": [
    {
     "data": {
      "text/plain": "[<moabb.datasets.alex_mi.AlexMI at 0x242b4b969b0>,\n <moabb.datasets.bnci.BNCI2014_001 at 0x242b4b95540>,\n <moabb.datasets.bnci.BNCI2014_002 at 0x242b4b94070>,\n <moabb.datasets.bnci.BNCI2014_004 at 0x242b4b95390>,\n <moabb.datasets.bnci.BNCI2015_001 at 0x242b4b971f0>,\n <moabb.datasets.bnci.BNCI2015_004 at 0x242b4b95f00>,\n <moabb.datasets.gigadb.Cho2017 at 0x242b4b97250>,\n <moabb.datasets.fake.FakeDataset at 0x242b4b96a40>,\n <moabb.datasets.mpi_mi.GrosseWentrup2009 at 0x24286fefb50>,\n <moabb.datasets.Lee2019.Lee2019_MI at 0x242b4b96b30>,\n <moabb.datasets.upper_limb.Ofner2017 at 0x2428705b040>,\n <moabb.datasets.physionet_mi.PhysionetMI at 0x242870598d0>,\n <moabb.datasets.schirrmeister2017.Schirrmeister2017 at 0x2428705a290>,\n <moabb.datasets.bbci_eeg_fnirs.Shin2017A at 0x24287059c00>,\n <moabb.datasets.Weibo2014.Weibo2014 at 0x24287059ab0>,\n <moabb.datasets.Zhou2016.Zhou2016 at 0x24287059e10>]"
     },
     "execution_count": 15,
     "metadata": {},
     "output_type": "execute_result"
    }
   ],
   "source": [
    "paradigm.datasets"
   ],
   "metadata": {
    "collapsed": false,
    "ExecuteTime": {
     "end_time": "2024-04-04T15:03:26.891217400Z",
     "start_time": "2024-04-04T15:03:26.852239Z"
    }
   },
   "id": "aeaaa7130fec5fb5",
   "execution_count": 15
  },
  {
   "cell_type": "markdown",
   "source": [
    "## Unpack the Dataset"
   ],
   "metadata": {
    "collapsed": false
   },
   "id": "47f59c913e8da2ff"
  },
  {
   "cell_type": "markdown",
   "source": [
    "The data stored in the `sklearn` format."
   ],
   "metadata": {
    "collapsed": false
   },
   "id": "4dd01005479f47ed"
  },
  {
   "cell_type": "code",
   "outputs": [],
   "source": [
    "X, y, meta = paradigm.get_data(dataset=dataset)"
   ],
   "metadata": {
    "collapsed": false,
    "ExecuteTime": {
     "end_time": "2024-04-04T10:41:04.188486100Z",
     "start_time": "2024-04-04T10:41:01.008086900Z"
    }
   },
   "id": "9a43d3511d3bd1d5",
   "execution_count": 58
  },
  {
   "cell_type": "code",
   "outputs": [
    {
     "name": "stdout",
     "output_type": "stream",
     "text": [
      "(576, 22, 1001) <class 'numpy.ndarray'>\n"
     ]
    }
   ],
   "source": [
    "print(X.shape, type(X))"
   ],
   "metadata": {
    "collapsed": false,
    "ExecuteTime": {
     "end_time": "2024-04-04T10:41:05.671049200Z",
     "start_time": "2024-04-04T10:41:05.648825700Z"
    }
   },
   "id": "73f3cd79b7cbcbdf",
   "execution_count": 59
  },
  {
   "cell_type": "code",
   "outputs": [
    {
     "name": "stdout",
     "output_type": "stream",
     "text": [
      "['tongue' 'feet' 'right_hand' 'left_hand' 'left_hand' 'right_hand' 'feet'\n",
      " 'tongue' 'right_hand' 'feet' 'left_hand' 'left_hand' 'left_hand' 'tongue'\n",
      " 'right_hand' 'right_hand' 'left_hand' 'left_hand' 'feet' 'left_hand'\n",
      " 'right_hand' 'tongue' 'tongue' 'feet' 'left_hand' 'tongue' 'tongue'\n",
      " 'right_hand' 'tongue' 'tongue' 'right_hand' 'left_hand' 'right_hand'\n",
      " 'feet' 'feet' 'feet' 'tongue' 'feet' 'left_hand' 'tongue' 'right_hand'\n",
      " 'feet' 'right_hand' 'feet' 'tongue' 'right_hand' 'feet' 'left_hand'\n",
      " 'left_hand' 'left_hand' 'tongue' 'right_hand' 'left_hand' 'feet'\n",
      " 'left_hand' 'feet' 'right_hand' 'tongue' 'left_hand' 'feet' 'feet'\n",
      " 'left_hand' 'feet' 'right_hand' 'tongue' 'tongue' 'tongue' 'feet'\n",
      " 'left_hand' 'tongue' 'right_hand' 'tongue' 'right_hand' 'left_hand'\n",
      " 'feet' 'right_hand' 'left_hand' 'feet' 'feet' 'left_hand' 'feet' 'tongue'\n",
      " 'tongue' 'right_hand' 'left_hand' 'right_hand' 'tongue' 'right_hand'\n",
      " 'tongue' 'feet' 'right_hand' 'right_hand' 'right_hand' 'feet' 'tongue'\n",
      " 'left_hand' 'right_hand' 'tongue' 'left_hand' 'feet' 'feet' 'tongue'\n",
      " 'left_hand' 'left_hand' 'feet' 'right_hand' 'tongue' 'tongue' 'tongue'\n",
      " 'right_hand' 'left_hand' 'feet' 'right_hand' 'tongue' 'left_hand'\n",
      " 'tongue' 'feet' 'right_hand' 'tongue' 'tongue' 'left_hand' 'right_hand'\n",
      " 'right_hand' 'feet' 'tongue' 'right_hand' 'left_hand' 'left_hand'\n",
      " 'tongue' 'right_hand' 'left_hand' 'feet' 'right_hand' 'right_hand' 'feet'\n",
      " 'left_hand' 'tongue' 'feet' 'feet' 'feet' 'feet' 'left_hand' 'right_hand'\n",
      " 'left_hand' 'right_hand' 'left_hand' 'left_hand' 'feet' 'feet'\n",
      " 'right_hand' 'feet' 'tongue' 'left_hand' 'tongue' 'left_hand' 'left_hand'\n",
      " 'right_hand' 'tongue' 'feet' 'right_hand' 'tongue' 'feet' 'tongue' 'feet'\n",
      " 'tongue' 'right_hand' 'right_hand' 'tongue' 'left_hand' 'right_hand'\n",
      " 'right_hand' 'right_hand' 'feet' 'tongue' 'left_hand' 'tongue'\n",
      " 'left_hand' 'feet' 'left_hand' 'tongue' 'left_hand' 'feet' 'left_hand'\n",
      " 'right_hand' 'feet' 'feet' 'tongue' 'left_hand' 'right_hand' 'tongue'\n",
      " 'right_hand' 'feet' 'feet' 'left_hand' 'tongue' 'right_hand' 'tongue'\n",
      " 'left_hand' 'left_hand' 'feet' 'feet' 'right_hand' 'tongue' 'right_hand'\n",
      " 'right_hand' 'left_hand' 'right_hand' 'tongue' 'tongue' 'right_hand'\n",
      " 'right_hand' 'right_hand' 'right_hand' 'tongue' 'tongue' 'feet' 'tongue'\n",
      " 'left_hand' 'right_hand' 'feet' 'right_hand' 'left_hand' 'tongue'\n",
      " 'left_hand' 'tongue' 'left_hand' 'left_hand' 'left_hand' 'left_hand'\n",
      " 'feet' 'feet' 'tongue' 'right_hand' 'feet' 'feet' 'feet' 'tongue' 'feet'\n",
      " 'left_hand' 'feet' 'left_hand' 'tongue' 'right_hand' 'tongue' 'tongue'\n",
      " 'feet' 'tongue' 'tongue' 'feet' 'right_hand' 'tongue' 'feet' 'left_hand'\n",
      " 'right_hand' 'right_hand' 'right_hand' 'feet' 'right_hand' 'tongue'\n",
      " 'feet' 'tongue' 'right_hand' 'feet' 'left_hand' 'tongue' 'left_hand'\n",
      " 'feet' 'tongue' 'left_hand' 'feet' 'left_hand' 'right_hand' 'right_hand'\n",
      " 'left_hand' 'tongue' 'left_hand' 'tongue' 'feet' 'feet' 'left_hand'\n",
      " 'feet' 'right_hand' 'right_hand' 'left_hand' 'feet' 'left_hand'\n",
      " 'right_hand' 'left_hand' 'left_hand' 'right_hand' 'right_hand'\n",
      " 'left_hand' 'right_hand' 'left_hand' 'right_hand' 'feet' 'right_hand'\n",
      " 'tongue' 'left_hand' 'feet' 'right_hand' 'left_hand' 'tongue' 'tongue'\n",
      " 'tongue' 'tongue' 'tongue' 'left_hand' 'feet' 'right_hand' 'left_hand'\n",
      " 'left_hand' 'feet' 'tongue' 'left_hand' 'feet' 'feet' 'feet' 'left_hand'\n",
      " 'right_hand' 'left_hand' 'right_hand' 'right_hand' 'left_hand'\n",
      " 'right_hand' 'feet' 'right_hand' 'feet' 'feet' 'tongue' 'feet' 'feet'\n",
      " 'tongue' 'tongue' 'tongue' 'tongue' 'tongue' 'feet' 'right_hand'\n",
      " 'left_hand' 'left_hand' 'right_hand' 'feet' 'tongue' 'right_hand' 'feet'\n",
      " 'left_hand' 'left_hand' 'left_hand' 'tongue' 'right_hand' 'right_hand'\n",
      " 'left_hand' 'left_hand' 'feet' 'left_hand' 'right_hand' 'tongue' 'tongue'\n",
      " 'feet' 'left_hand' 'tongue' 'tongue' 'right_hand' 'tongue' 'tongue'\n",
      " 'right_hand' 'left_hand' 'right_hand' 'feet' 'feet' 'feet' 'tongue'\n",
      " 'feet' 'left_hand' 'tongue' 'right_hand' 'feet' 'right_hand' 'feet'\n",
      " 'tongue' 'right_hand' 'feet' 'left_hand' 'left_hand' 'left_hand' 'tongue'\n",
      " 'right_hand' 'left_hand' 'feet' 'left_hand' 'feet' 'right_hand' 'tongue'\n",
      " 'left_hand' 'feet' 'feet' 'left_hand' 'feet' 'right_hand' 'tongue'\n",
      " 'tongue' 'tongue' 'feet' 'left_hand' 'tongue' 'right_hand' 'tongue'\n",
      " 'right_hand' 'left_hand' 'feet' 'right_hand' 'left_hand' 'feet' 'feet'\n",
      " 'left_hand' 'feet' 'tongue' 'tongue' 'right_hand' 'left_hand'\n",
      " 'right_hand' 'tongue' 'right_hand' 'tongue' 'feet' 'right_hand'\n",
      " 'right_hand' 'right_hand' 'feet' 'tongue' 'left_hand' 'right_hand'\n",
      " 'tongue' 'left_hand' 'feet' 'feet' 'tongue' 'left_hand' 'left_hand'\n",
      " 'feet' 'right_hand' 'tongue' 'tongue' 'tongue' 'right_hand' 'left_hand'\n",
      " 'feet' 'right_hand' 'tongue' 'left_hand' 'tongue' 'feet' 'right_hand'\n",
      " 'tongue' 'tongue' 'left_hand' 'right_hand' 'right_hand' 'feet' 'tongue'\n",
      " 'right_hand' 'left_hand' 'left_hand' 'tongue' 'right_hand' 'left_hand'\n",
      " 'feet' 'right_hand' 'right_hand' 'feet' 'left_hand' 'tongue' 'feet'\n",
      " 'feet' 'feet' 'feet' 'left_hand' 'right_hand' 'left_hand' 'right_hand'\n",
      " 'left_hand' 'left_hand' 'feet' 'feet' 'right_hand' 'feet' 'tongue'\n",
      " 'left_hand' 'tongue' 'left_hand' 'left_hand' 'right_hand' 'tongue' 'feet'\n",
      " 'right_hand' 'tongue' 'feet' 'tongue' 'feet' 'tongue' 'right_hand'\n",
      " 'right_hand' 'tongue' 'left_hand' 'right_hand' 'right_hand' 'right_hand'\n",
      " 'feet' 'tongue' 'left_hand' 'tongue' 'left_hand' 'feet' 'left_hand'\n",
      " 'tongue' 'left_hand' 'feet' 'left_hand' 'right_hand' 'feet' 'feet'\n",
      " 'tongue' 'left_hand' 'right_hand' 'tongue' 'right_hand' 'feet' 'feet'\n",
      " 'left_hand' 'tongue' 'right_hand' 'tongue' 'left_hand' 'left_hand' 'feet'\n",
      " 'feet' 'right_hand' 'tongue' 'right_hand' 'right_hand' 'left_hand'\n",
      " 'right_hand' 'tongue' 'tongue' 'right_hand' 'right_hand' 'right_hand'\n",
      " 'right_hand' 'tongue' 'tongue' 'feet' 'tongue' 'left_hand' 'right_hand'\n",
      " 'feet' 'right_hand' 'left_hand' 'tongue' 'left_hand' 'tongue' 'left_hand'\n",
      " 'left_hand' 'left_hand' 'left_hand' 'feet' 'feet' 'tongue' 'right_hand'\n",
      " 'feet' 'feet' 'feet' 'tongue' 'feet' 'left_hand' 'feet'] \n",
      " <class 'numpy.ndarray'>\n",
      "The number of labels: 576\n"
     ]
    }
   ],
   "source": [
    "print(y, \"\\n\", type(y))\n",
    "print(\"The number of labels:\", len(y))"
   ],
   "metadata": {
    "collapsed": false,
    "ExecuteTime": {
     "end_time": "2024-04-04T10:41:12.791508100Z",
     "start_time": "2024-04-04T10:41:12.699789200Z"
    }
   },
   "id": "881dc25494be0c59",
   "execution_count": 60
  },
  {
   "cell_type": "code",
   "outputs": [
    {
     "name": "stdout",
     "output_type": "stream",
     "text": [
      "     subject session run\n",
      "0          1  0train   0\n",
      "1          1  0train   0\n",
      "2          1  0train   0\n",
      "3          1  0train   0\n",
      "4          1  0train   0\n",
      "..       ...     ...  ..\n",
      "571        1   1test   5\n",
      "572        1   1test   5\n",
      "573        1   1test   5\n",
      "574        1   1test   5\n",
      "575        1   1test   5\n",
      "\n",
      "[576 rows x 3 columns]\n"
     ]
    }
   ],
   "source": [
    "print(meta)"
   ],
   "metadata": {
    "collapsed": false,
    "ExecuteTime": {
     "end_time": "2024-04-04T10:41:25.099371200Z",
     "start_time": "2024-04-04T10:41:25.066913600Z"
    }
   },
   "id": "8662163e5b352cc6",
   "execution_count": 61
  },
  {
   "cell_type": "code",
   "outputs": [
    {
     "name": "stdout",
     "output_type": "stream",
     "text": [
      "['0train' '1test']\n"
     ]
    }
   ],
   "source": [
    "print(np.unique(meta[\"session\"]))"
   ],
   "metadata": {
    "collapsed": false,
    "ExecuteTime": {
     "end_time": "2024-04-04T10:41:28.094036900Z",
     "start_time": "2024-04-04T10:41:28.062057400Z"
    }
   },
   "id": "fca27ebb7bfb950",
   "execution_count": 62
  },
  {
   "cell_type": "markdown",
   "source": [
    "## Create a Pipeline"
   ],
   "metadata": {
    "collapsed": false
   },
   "id": "8c689899a8b923b7"
  },
  {
   "cell_type": "code",
   "outputs": [],
   "source": [
    "pipelines = {}\n",
    "\n",
    "pipelines[\"RG+LR\"] = make_pipeline(Covariances(), TangentSpace(), LogisticRegression(solver=\"lbfgs\"))"
   ],
   "metadata": {
    "collapsed": false,
    "ExecuteTime": {
     "end_time": "2024-04-04T15:01:18.612004500Z",
     "start_time": "2024-04-04T15:01:18.588018500Z"
    }
   },
   "id": "e8c85bc399f3a6e3",
   "execution_count": 6
  },
  {
   "cell_type": "markdown",
   "source": [
    "## Evaluate a Solution"
   ],
   "metadata": {
    "collapsed": false
   },
   "id": "3b3a0406ee22a71e"
  },
  {
   "cell_type": "code",
   "outputs": [],
   "source": [
    "# Evaluate for a specific number of training samples per class.\n",
    "data_size = dict(policy=\"per_class\", value=np.array([5, 10, 30, 50]))\n",
    "# When the training data is sparse, perform more permutations than when we have a lot of data.\n",
    "n_perms = np.floor(np.geomspace(20, 2, len(data_size[\"value\"]))).astype(int)"
   ],
   "metadata": {
    "collapsed": false,
    "ExecuteTime": {
     "end_time": "2024-04-04T15:01:20.362364Z",
     "start_time": "2024-04-04T15:01:20.348373Z"
    }
   },
   "id": "daa9e3c56fbf5133",
   "execution_count": 7
  },
  {
   "cell_type": "code",
   "outputs": [],
   "source": [
    "evaluation = WithinSessionEvaluation(\n",
    "    paradigm=paradigm,\n",
    "    datasets=datasets,\n",
    "    overwrite=True,\n",
    "    data_size=data_size,\n",
    "    n_perms=n_perms,\n",
    ")"
   ],
   "metadata": {
    "collapsed": false,
    "ExecuteTime": {
     "end_time": "2024-04-04T15:03:40.946002200Z",
     "start_time": "2024-04-04T15:03:40.903924400Z"
    }
   },
   "id": "df58013cb295f758",
   "execution_count": 16
  },
  {
   "cell_type": "code",
   "outputs": [
    {
     "name": "stderr",
     "output_type": "stream",
     "text": [
      "2024-04-04 18:03:47,588 INFO MainThread moabb.evaluations.base Processing dataset: BNCI2014-001\n",
      "BNCI2014-001-WithinSession:   0%|          | 0/1 [00:00<?, ?it/s]2024-04-04 18:03:50,888 INFO MainThread moabb.evaluations.evaluations Permutation: 1, Training samples: 20\n",
      "2024-04-04 18:03:50,940 INFO MainThread moabb.evaluations.base RG+LR | BNCI2014-001 | 1 | 0train: Score 0.707\n",
      "2024-04-04 18:03:51,111 INFO MainThread moabb.evaluations.evaluations Permutation: 1, Training samples: 40\n",
      "2024-04-04 18:03:51,183 INFO MainThread moabb.evaluations.base RG+LR | BNCI2014-001 | 1 | 0train: Score 0.759\n",
      "2024-04-04 18:03:51,353 INFO MainThread moabb.evaluations.evaluations Permutation: 1, Training samples: 120\n",
      "2024-04-04 18:03:51,489 INFO MainThread moabb.evaluations.base RG+LR | BNCI2014-001 | 1 | 0train: Score 0.845\n",
      "2024-04-04 18:03:51,645 INFO MainThread moabb.evaluations.evaluations Permutation: 1, Training samples: 200\n",
      "2024-04-04 18:03:51,866 INFO MainThread moabb.evaluations.base RG+LR | BNCI2014-001 | 1 | 0train: Score 0.828\n",
      "2024-04-04 18:03:52,080 INFO MainThread moabb.evaluations.evaluations Permutation: 2, Training samples: 20\n",
      "2024-04-04 18:03:52,140 INFO MainThread moabb.evaluations.base RG+LR | BNCI2014-001 | 1 | 0train: Score 0.621\n",
      "2024-04-04 18:03:52,370 INFO MainThread moabb.evaluations.evaluations Permutation: 2, Training samples: 40\n",
      "2024-04-04 18:03:52,444 INFO MainThread moabb.evaluations.base RG+LR | BNCI2014-001 | 1 | 0train: Score 0.741\n",
      "2024-04-04 18:03:52,611 INFO MainThread moabb.evaluations.evaluations Permutation: 2, Training samples: 120\n",
      "2024-04-04 18:03:52,763 INFO MainThread moabb.evaluations.base RG+LR | BNCI2014-001 | 1 | 0train: Score 0.776\n",
      "2024-04-04 18:03:52,946 INFO MainThread moabb.evaluations.evaluations Permutation: 2, Training samples: 200\n",
      "2024-04-04 18:03:53,149 INFO MainThread moabb.evaluations.base RG+LR | BNCI2014-001 | 1 | 0train: Score 0.793\n",
      "2024-04-04 18:03:53,341 INFO MainThread moabb.evaluations.evaluations Permutation: 3, Training samples: 20\n",
      "2024-04-04 18:03:53,400 INFO MainThread moabb.evaluations.base RG+LR | BNCI2014-001 | 1 | 0train: Score 0.690\n",
      "2024-04-04 18:03:53,560 INFO MainThread moabb.evaluations.evaluations Permutation: 3, Training samples: 40\n",
      "2024-04-04 18:03:53,625 INFO MainThread moabb.evaluations.base RG+LR | BNCI2014-001 | 1 | 0train: Score 0.793\n",
      "2024-04-04 18:03:53,786 INFO MainThread moabb.evaluations.evaluations Permutation: 3, Training samples: 120\n",
      "2024-04-04 18:03:53,920 INFO MainThread moabb.evaluations.base RG+LR | BNCI2014-001 | 1 | 0train: Score 0.845\n",
      "2024-04-04 18:03:54,097 INFO MainThread moabb.evaluations.evaluations Permutation: 4, Training samples: 20\n",
      "2024-04-04 18:03:54,150 INFO MainThread moabb.evaluations.base RG+LR | BNCI2014-001 | 1 | 0train: Score 0.724\n",
      "2024-04-04 18:03:54,326 INFO MainThread moabb.evaluations.evaluations Permutation: 4, Training samples: 40\n",
      "2024-04-04 18:03:54,396 INFO MainThread moabb.evaluations.base RG+LR | BNCI2014-001 | 1 | 0train: Score 0.741\n",
      "2024-04-04 18:03:54,553 INFO MainThread moabb.evaluations.evaluations Permutation: 4, Training samples: 120\n",
      "2024-04-04 18:03:54,683 INFO MainThread moabb.evaluations.base RG+LR | BNCI2014-001 | 1 | 0train: Score 0.741\n",
      "2024-04-04 18:03:54,860 INFO MainThread moabb.evaluations.evaluations Permutation: 5, Training samples: 20\n",
      "2024-04-04 18:03:54,912 INFO MainThread moabb.evaluations.base RG+LR | BNCI2014-001 | 1 | 0train: Score 0.741\n",
      "2024-04-04 18:03:55,079 INFO MainThread moabb.evaluations.evaluations Permutation: 5, Training samples: 40\n",
      "2024-04-04 18:03:55,143 INFO MainThread moabb.evaluations.base RG+LR | BNCI2014-001 | 1 | 0train: Score 0.707\n",
      "2024-04-04 18:03:55,327 INFO MainThread moabb.evaluations.evaluations Permutation: 6, Training samples: 20\n",
      "2024-04-04 18:03:55,378 INFO MainThread moabb.evaluations.base RG+LR | BNCI2014-001 | 1 | 0train: Score 0.724\n",
      "2024-04-04 18:03:55,539 INFO MainThread moabb.evaluations.evaluations Permutation: 6, Training samples: 40\n",
      "2024-04-04 18:03:55,610 INFO MainThread moabb.evaluations.base RG+LR | BNCI2014-001 | 1 | 0train: Score 0.828\n",
      "2024-04-04 18:03:55,817 INFO MainThread moabb.evaluations.evaluations Permutation: 7, Training samples: 20\n",
      "2024-04-04 18:03:55,868 INFO MainThread moabb.evaluations.base RG+LR | BNCI2014-001 | 1 | 0train: Score 0.655\n",
      "2024-04-04 18:03:56,019 INFO MainThread moabb.evaluations.evaluations Permutation: 7, Training samples: 40\n",
      "2024-04-04 18:03:56,082 INFO MainThread moabb.evaluations.base RG+LR | BNCI2014-001 | 1 | 0train: Score 0.638\n",
      "2024-04-04 18:03:56,261 INFO MainThread moabb.evaluations.evaluations Permutation: 8, Training samples: 20\n",
      "2024-04-04 18:03:56,308 INFO MainThread moabb.evaluations.base RG+LR | BNCI2014-001 | 1 | 0train: Score 0.655\n",
      "2024-04-04 18:03:56,468 INFO MainThread moabb.evaluations.evaluations Permutation: 8, Training samples: 40\n",
      "2024-04-04 18:03:56,534 INFO MainThread moabb.evaluations.base RG+LR | BNCI2014-001 | 1 | 0train: Score 0.741\n",
      "2024-04-04 18:03:56,727 INFO MainThread moabb.evaluations.evaluations Permutation: 9, Training samples: 20\n",
      "2024-04-04 18:03:56,774 INFO MainThread moabb.evaluations.base RG+LR | BNCI2014-001 | 1 | 0train: Score 0.672\n",
      "2024-04-04 18:03:56,963 INFO MainThread moabb.evaluations.evaluations Permutation: 9, Training samples: 40\n",
      "2024-04-04 18:03:57,029 INFO MainThread moabb.evaluations.base RG+LR | BNCI2014-001 | 1 | 0train: Score 0.690\n",
      "2024-04-04 18:03:57,194 INFO MainThread moabb.evaluations.evaluations Permutation: 10, Training samples: 20\n",
      "2024-04-04 18:03:57,244 INFO MainThread moabb.evaluations.base RG+LR | BNCI2014-001 | 1 | 0train: Score 0.534\n",
      "2024-04-04 18:03:57,433 INFO MainThread moabb.evaluations.evaluations Permutation: 11, Training samples: 20\n",
      "2024-04-04 18:03:57,483 INFO MainThread moabb.evaluations.base RG+LR | BNCI2014-001 | 1 | 0train: Score 0.586\n",
      "2024-04-04 18:03:57,658 INFO MainThread moabb.evaluations.evaluations Permutation: 12, Training samples: 20\n",
      "2024-04-04 18:03:57,715 INFO MainThread moabb.evaluations.base RG+LR | BNCI2014-001 | 1 | 0train: Score 0.724\n",
      "2024-04-04 18:03:57,882 INFO MainThread moabb.evaluations.evaluations Permutation: 13, Training samples: 20\n",
      "2024-04-04 18:03:57,938 INFO MainThread moabb.evaluations.base RG+LR | BNCI2014-001 | 1 | 0train: Score 0.707\n",
      "2024-04-04 18:03:58,149 INFO MainThread moabb.evaluations.evaluations Permutation: 14, Training samples: 20\n",
      "2024-04-04 18:03:58,205 INFO MainThread moabb.evaluations.base RG+LR | BNCI2014-001 | 1 | 0train: Score 0.724\n",
      "2024-04-04 18:03:58,378 INFO MainThread moabb.evaluations.evaluations Permutation: 15, Training samples: 20\n",
      "2024-04-04 18:03:58,424 INFO MainThread moabb.evaluations.base RG+LR | BNCI2014-001 | 1 | 0train: Score 0.690\n",
      "2024-04-04 18:03:58,596 INFO MainThread moabb.evaluations.evaluations Permutation: 16, Training samples: 20\n",
      "2024-04-04 18:03:58,648 INFO MainThread moabb.evaluations.base RG+LR | BNCI2014-001 | 1 | 0train: Score 0.690\n",
      "2024-04-04 18:03:58,813 INFO MainThread moabb.evaluations.evaluations Permutation: 17, Training samples: 20\n",
      "2024-04-04 18:03:58,858 INFO MainThread moabb.evaluations.base RG+LR | BNCI2014-001 | 1 | 0train: Score 0.690\n",
      "2024-04-04 18:03:59,023 INFO MainThread moabb.evaluations.evaluations Permutation: 18, Training samples: 20\n",
      "2024-04-04 18:03:59,071 INFO MainThread moabb.evaluations.base RG+LR | BNCI2014-001 | 1 | 0train: Score 0.741\n",
      "2024-04-04 18:03:59,248 INFO MainThread moabb.evaluations.evaluations Permutation: 19, Training samples: 20\n",
      "2024-04-04 18:03:59,295 INFO MainThread moabb.evaluations.base RG+LR | BNCI2014-001 | 1 | 0train: Score 0.655\n",
      "2024-04-04 18:03:59,455 INFO MainThread moabb.evaluations.evaluations Permutation: 20, Training samples: 20\n",
      "2024-04-04 18:03:59,502 INFO MainThread moabb.evaluations.base RG+LR | BNCI2014-001 | 1 | 0train: Score 0.638\n",
      "2024-04-04 18:03:59,705 INFO MainThread moabb.evaluations.evaluations Permutation: 1, Training samples: 20\n",
      "2024-04-04 18:03:59,757 INFO MainThread moabb.evaluations.base RG+LR | BNCI2014-001 | 1 | 1test: Score 0.672\n",
      "2024-04-04 18:03:59,907 INFO MainThread moabb.evaluations.evaluations Permutation: 1, Training samples: 40\n",
      "2024-04-04 18:03:59,971 INFO MainThread moabb.evaluations.base RG+LR | BNCI2014-001 | 1 | 1test: Score 0.672\n",
      "2024-04-04 18:04:00,137 INFO MainThread moabb.evaluations.evaluations Permutation: 1, Training samples: 120\n",
      "2024-04-04 18:04:00,267 INFO MainThread moabb.evaluations.base RG+LR | BNCI2014-001 | 1 | 1test: Score 0.776\n",
      "2024-04-04 18:04:00,412 INFO MainThread moabb.evaluations.evaluations Permutation: 1, Training samples: 200\n",
      "2024-04-04 18:04:00,627 INFO MainThread moabb.evaluations.base RG+LR | BNCI2014-001 | 1 | 1test: Score 0.759\n",
      "2024-04-04 18:04:00,789 INFO MainThread moabb.evaluations.evaluations Permutation: 2, Training samples: 20\n",
      "2024-04-04 18:04:00,837 INFO MainThread moabb.evaluations.base RG+LR | BNCI2014-001 | 1 | 1test: Score 0.776\n",
      "2024-04-04 18:04:00,989 INFO MainThread moabb.evaluations.evaluations Permutation: 2, Training samples: 40\n",
      "2024-04-04 18:04:01,060 INFO MainThread moabb.evaluations.base RG+LR | BNCI2014-001 | 1 | 1test: Score 0.776\n",
      "2024-04-04 18:04:01,203 INFO MainThread moabb.evaluations.evaluations Permutation: 2, Training samples: 120\n",
      "2024-04-04 18:04:01,332 INFO MainThread moabb.evaluations.base RG+LR | BNCI2014-001 | 1 | 1test: Score 0.828\n",
      "2024-04-04 18:04:01,478 INFO MainThread moabb.evaluations.evaluations Permutation: 2, Training samples: 200\n",
      "2024-04-04 18:04:01,678 INFO MainThread moabb.evaluations.base RG+LR | BNCI2014-001 | 1 | 1test: Score 0.862\n",
      "2024-04-04 18:04:01,842 INFO MainThread moabb.evaluations.evaluations Permutation: 3, Training samples: 20\n",
      "2024-04-04 18:04:01,896 INFO MainThread moabb.evaluations.base RG+LR | BNCI2014-001 | 1 | 1test: Score 0.621\n",
      "2024-04-04 18:04:02,091 INFO MainThread moabb.evaluations.evaluations Permutation: 3, Training samples: 40\n",
      "2024-04-04 18:04:02,160 INFO MainThread moabb.evaluations.base RG+LR | BNCI2014-001 | 1 | 1test: Score 0.655\n",
      "2024-04-04 18:04:02,346 INFO MainThread moabb.evaluations.evaluations Permutation: 3, Training samples: 120\n",
      "2024-04-04 18:04:02,484 INFO MainThread moabb.evaluations.base RG+LR | BNCI2014-001 | 1 | 1test: Score 0.741\n",
      "2024-04-04 18:04:02,675 INFO MainThread moabb.evaluations.evaluations Permutation: 4, Training samples: 20\n",
      "2024-04-04 18:04:02,740 INFO MainThread moabb.evaluations.base RG+LR | BNCI2014-001 | 1 | 1test: Score 0.707\n",
      "2024-04-04 18:04:02,895 INFO MainThread moabb.evaluations.evaluations Permutation: 4, Training samples: 40\n",
      "2024-04-04 18:04:02,962 INFO MainThread moabb.evaluations.base RG+LR | BNCI2014-001 | 1 | 1test: Score 0.776\n",
      "2024-04-04 18:04:03,123 INFO MainThread moabb.evaluations.evaluations Permutation: 4, Training samples: 120\n",
      "2024-04-04 18:04:03,254 INFO MainThread moabb.evaluations.base RG+LR | BNCI2014-001 | 1 | 1test: Score 0.810\n",
      "2024-04-04 18:04:03,415 INFO MainThread moabb.evaluations.evaluations Permutation: 5, Training samples: 20\n",
      "2024-04-04 18:04:03,468 INFO MainThread moabb.evaluations.base RG+LR | BNCI2014-001 | 1 | 1test: Score 0.810\n",
      "2024-04-04 18:04:03,665 INFO MainThread moabb.evaluations.evaluations Permutation: 5, Training samples: 40\n",
      "2024-04-04 18:04:03,730 INFO MainThread moabb.evaluations.base RG+LR | BNCI2014-001 | 1 | 1test: Score 0.793\n",
      "2024-04-04 18:04:03,901 INFO MainThread moabb.evaluations.evaluations Permutation: 6, Training samples: 20\n",
      "2024-04-04 18:04:03,948 INFO MainThread moabb.evaluations.base RG+LR | BNCI2014-001 | 1 | 1test: Score 0.672\n",
      "2024-04-04 18:04:04,100 INFO MainThread moabb.evaluations.evaluations Permutation: 6, Training samples: 40\n",
      "2024-04-04 18:04:04,164 INFO MainThread moabb.evaluations.base RG+LR | BNCI2014-001 | 1 | 1test: Score 0.776\n",
      "2024-04-04 18:04:04,325 INFO MainThread moabb.evaluations.evaluations Permutation: 7, Training samples: 20\n",
      "2024-04-04 18:04:04,372 INFO MainThread moabb.evaluations.base RG+LR | BNCI2014-001 | 1 | 1test: Score 0.621\n",
      "2024-04-04 18:04:04,515 INFO MainThread moabb.evaluations.evaluations Permutation: 7, Training samples: 40\n",
      "2024-04-04 18:04:04,608 INFO MainThread moabb.evaluations.base RG+LR | BNCI2014-001 | 1 | 1test: Score 0.603\n",
      "2024-04-04 18:04:04,772 INFO MainThread moabb.evaluations.evaluations Permutation: 8, Training samples: 20\n",
      "2024-04-04 18:04:04,824 INFO MainThread moabb.evaluations.base RG+LR | BNCI2014-001 | 1 | 1test: Score 0.655\n",
      "2024-04-04 18:04:04,970 INFO MainThread moabb.evaluations.evaluations Permutation: 8, Training samples: 40\n",
      "2024-04-04 18:04:05,035 INFO MainThread moabb.evaluations.base RG+LR | BNCI2014-001 | 1 | 1test: Score 0.672\n",
      "2024-04-04 18:04:05,205 INFO MainThread moabb.evaluations.evaluations Permutation: 9, Training samples: 20\n",
      "2024-04-04 18:04:05,254 INFO MainThread moabb.evaluations.base RG+LR | BNCI2014-001 | 1 | 1test: Score 0.638\n",
      "2024-04-04 18:04:05,405 INFO MainThread moabb.evaluations.evaluations Permutation: 9, Training samples: 40\n",
      "2024-04-04 18:04:05,476 INFO MainThread moabb.evaluations.base RG+LR | BNCI2014-001 | 1 | 1test: Score 0.793\n",
      "2024-04-04 18:04:05,643 INFO MainThread moabb.evaluations.evaluations Permutation: 10, Training samples: 20\n",
      "2024-04-04 18:04:05,692 INFO MainThread moabb.evaluations.base RG+LR | BNCI2014-001 | 1 | 1test: Score 0.638\n",
      "2024-04-04 18:04:05,860 INFO MainThread moabb.evaluations.evaluations Permutation: 11, Training samples: 20\n",
      "2024-04-04 18:04:05,908 INFO MainThread moabb.evaluations.base RG+LR | BNCI2014-001 | 1 | 1test: Score 0.690\n",
      "2024-04-04 18:04:06,070 INFO MainThread moabb.evaluations.evaluations Permutation: 12, Training samples: 20\n",
      "2024-04-04 18:04:06,120 INFO MainThread moabb.evaluations.base RG+LR | BNCI2014-001 | 1 | 1test: Score 0.724\n",
      "2024-04-04 18:04:06,279 INFO MainThread moabb.evaluations.evaluations Permutation: 13, Training samples: 20\n",
      "2024-04-04 18:04:06,326 INFO MainThread moabb.evaluations.base RG+LR | BNCI2014-001 | 1 | 1test: Score 0.776\n",
      "2024-04-04 18:04:06,487 INFO MainThread moabb.evaluations.evaluations Permutation: 14, Training samples: 20\n",
      "2024-04-04 18:04:06,536 INFO MainThread moabb.evaluations.base RG+LR | BNCI2014-001 | 1 | 1test: Score 0.707\n",
      "2024-04-04 18:04:06,700 INFO MainThread moabb.evaluations.evaluations Permutation: 15, Training samples: 20\n",
      "2024-04-04 18:04:06,752 INFO MainThread moabb.evaluations.base RG+LR | BNCI2014-001 | 1 | 1test: Score 0.672\n",
      "2024-04-04 18:04:06,918 INFO MainThread moabb.evaluations.evaluations Permutation: 16, Training samples: 20\n",
      "2024-04-04 18:04:06,965 INFO MainThread moabb.evaluations.base RG+LR | BNCI2014-001 | 1 | 1test: Score 0.655\n",
      "2024-04-04 18:04:07,128 INFO MainThread moabb.evaluations.evaluations Permutation: 17, Training samples: 20\n",
      "2024-04-04 18:04:07,175 INFO MainThread moabb.evaluations.base RG+LR | BNCI2014-001 | 1 | 1test: Score 0.690\n",
      "2024-04-04 18:04:07,337 INFO MainThread moabb.evaluations.evaluations Permutation: 18, Training samples: 20\n",
      "2024-04-04 18:04:07,384 INFO MainThread moabb.evaluations.base RG+LR | BNCI2014-001 | 1 | 1test: Score 0.586\n",
      "2024-04-04 18:04:07,550 INFO MainThread moabb.evaluations.evaluations Permutation: 19, Training samples: 20\n",
      "2024-04-04 18:04:07,596 INFO MainThread moabb.evaluations.base RG+LR | BNCI2014-001 | 1 | 1test: Score 0.603\n",
      "2024-04-04 18:04:07,783 INFO MainThread moabb.evaluations.evaluations Permutation: 20, Training samples: 20\n",
      "2024-04-04 18:04:07,836 INFO MainThread moabb.evaluations.base RG+LR | BNCI2014-001 | 1 | 1test: Score 0.776\n",
      "BNCI2014-001-WithinSession: 100%|██████████| 1/1 [00:20<00:00, 20.41s/it]\n"
     ]
    }
   ],
   "source": [
    "results = evaluation.process(pipelines)"
   ],
   "metadata": {
    "collapsed": false,
    "ExecuteTime": {
     "end_time": "2024-04-04T15:04:08.195584800Z",
     "start_time": "2024-04-04T15:03:47.588440300Z"
    }
   },
   "id": "8b2c28a36d218692",
   "execution_count": 17
  },
  {
   "cell_type": "code",
   "outputs": [
    {
     "name": "stdout",
     "output_type": "stream",
     "text": [
      "      score      time  samples  data_size  permutation subject session  \\\n",
      "0  0.814286  0.036052     10.0       10.0          1.0       1  0train   \n",
      "1  0.876190  0.048161     20.0       20.0          1.0       1  0train   \n",
      "2  0.980952  0.066610     60.0       60.0          1.0       1  0train   \n",
      "3  1.000000  0.104161    100.0      100.0          1.0       1  0train   \n",
      "4  0.852381  0.022987     10.0       10.0          2.0       1  0train   \n",
      "\n",
      "   channels  n_sessions       dataset pipeline  \n",
      "0        22           2  BNCI2014-001    RG+LR  \n",
      "1        22           2  BNCI2014-001    RG+LR  \n",
      "2        22           2  BNCI2014-001    RG+LR  \n",
      "3        22           2  BNCI2014-001    RG+LR  \n",
      "4        22           2  BNCI2014-001    RG+LR  \n"
     ]
    }
   ],
   "source": [
    "print(results.head(n=5))"
   ],
   "metadata": {
    "collapsed": false,
    "ExecuteTime": {
     "end_time": "2024-04-04T15:01:52.635240400Z",
     "start_time": "2024-04-04T15:01:52.588042300Z"
    }
   },
   "id": "ea10ac12a01a4bcd",
   "execution_count": 10
  },
  {
   "cell_type": "code",
   "outputs": [],
   "source": [
    "results.to_csv(\"./results.csv\")"
   ],
   "metadata": {
    "collapsed": false,
    "ExecuteTime": {
     "end_time": "2024-04-04T15:02:15.799306700Z",
     "start_time": "2024-04-04T15:02:15.718062700Z"
    }
   },
   "id": "67bb4f12dfaecc66",
   "execution_count": 11
  },
  {
   "cell_type": "code",
   "outputs": [],
   "source": [
    "results = pd.read_csv(\"./results.csv\")"
   ],
   "metadata": {
    "collapsed": false,
    "ExecuteTime": {
     "end_time": "2024-04-04T15:02:24.093448800Z",
     "start_time": "2024-04-04T15:02:23.934314400Z"
    }
   },
   "id": "bfb291c318b374d5",
   "execution_count": 12
  },
  {
   "cell_type": "markdown",
   "source": [
    "## Plot the Results"
   ],
   "metadata": {
    "collapsed": false
   },
   "id": "8b4b029b820be4f3"
  },
  {
   "cell_type": "code",
   "outputs": [
    {
     "data": {
      "text/plain": "<Figure size 800x400 with 1 Axes>",
      "image/png": "[encoded data removed]"
     },
     "metadata": {},
     "output_type": "display_data"
    }
   ],
   "source": [
    "fig, ax = plt.subplots(facecolor=\"white\", figsize=[8, 4])\n",
    "\n",
    "n_subs = len(dataset.subject_list)\n",
    "\n",
    "if n_subs > 1:\n",
    "    r = results.groupby([\"pipeline\", \"subject\", \"data_size\"]).mean().reset_index()\n",
    "else:\n",
    "    r = results\n",
    "\n",
    "sns.pointplot(data=r, x=\"data_size\", y=\"score\", hue=\"pipeline\", ax=ax, palette=\"Set1\")\n",
    "\n",
    "errbar_meaning = \"subjects\" if n_subs > 1 else \"permutations\"\n",
    "title_str = f\"Error bar shows Mean-CI across {errbar_meaning}\"\n",
    "ax.set_xlabel(\"Amount of training samples\")\n",
    "ax.set_ylabel(\"ROC AUC\")\n",
    "ax.set_title(title_str)\n",
    "fig.tight_layout()\n",
    "plt.show()"
   ],
   "metadata": {
    "collapsed": false,
    "ExecuteTime": {
     "end_time": "2024-04-04T15:04:16.607178700Z",
     "start_time": "2024-04-04T15:04:16.157153300Z"
    }
   },
   "id": "e2746b9ec615c21c",
   "execution_count": 18
  },
  {
   "cell_type": "markdown",
   "source": [
    "## Split the Data"
   ],
   "metadata": {
    "collapsed": false
   },
   "id": "e40815a1268e2dc1"
  },
  {
   "cell_type": "code",
   "outputs": [],
   "source": [
    "train_sessions = meta[meta[\"session\"] == \"0train\"]\n",
    "test_sessions = meta[meta[\"session\"] == \"1test\"]"
   ],
   "metadata": {
    "collapsed": false,
    "ExecuteTime": {
     "start_time": "2024-04-04T08:14:56.190245Z"
    }
   },
   "id": "362b2681a13a8654"
  },
  {
   "cell_type": "code",
   "outputs": [],
   "source": [
    "X_train = X[train_sessions.index]\n",
    "X_test = X[test_sessions.index]\n",
    "\n",
    "y_train = labels[train_sessions.index]\n",
    "y_test = labels[test_sessions.index]"
   ],
   "metadata": {
    "collapsed": false,
    "ExecuteTime": {
     "end_time": "2024-04-04T08:14:56.198631800Z",
     "start_time": "2024-04-04T08:14:56.192376700Z"
    }
   },
   "id": "a21009fbc5eba36c"
  },
  {
   "cell_type": "markdown",
   "source": [
    "## Define a Range of Sample Sizes"
   ],
   "metadata": {
    "collapsed": false
   },
   "id": "54622b0288384287"
  },
  {
   "cell_type": "code",
   "outputs": [],
   "source": [
    "min_sample_size = 50\n",
    "max_sample_size = len(X_train)\n",
    "step_size = 50\n",
    "\n",
    "sample_sizes = np.arange(min_sample_size, max_sample_size + step_size, step_size)"
   ],
   "metadata": {
    "collapsed": false,
    "ExecuteTime": {
     "start_time": "2024-04-04T08:14:56.194413600Z"
    }
   },
   "id": "db93b7d30b6a846b",
   "execution_count": null
  },
  {
   "cell_type": "markdown",
   "source": [
    "## Train a Model"
   ],
   "metadata": {
    "collapsed": false
   },
   "id": "4da5cf83146e4448"
  },
  {
   "cell_type": "code",
   "outputs": [],
   "source": [
    "accuracies = []\n",
    "for size in sample_sizes:\n",
    "    # Randomly select a subset of the training data.\n",
    "    indices = np.random.choice(len(X_train), size=size, replace=False)\n",
    "    X_subset = X_train[indices]\n",
    "    y_subset = y_train[indices]\n",
    "\n",
    "    # Train a logistic regression model.\n",
    "    evaluation = WithinSessionEvaluation(paradigm=paradigm,\n",
    "                                         datasets=[dataset],\n",
    "                                         overwrite=True,\n",
    "                                         hdf5_path=None,\n",
    "                                         )\n",
    "\n",
    "    # Make predictions on the test set.\n",
    "    y_pred = model.predict(X_test)\n",
    "\n",
    "    # Calculate accuracy and store it.\n",
    "    accuracy = accuracy_score(y_test, y_pred)\n",
    "    accuracies.append(accuracy)"
   ],
   "metadata": {
    "collapsed": false,
    "ExecuteTime": {
     "start_time": "2024-04-04T08:14:56.195472700Z"
    }
   },
   "id": "ee5726306c42fab3",
   "execution_count": null
  }
 ],
 "metadata": {
  "kernelspec": {
   "display_name": "Python 3",
   "language": "python",
   "name": "python3"
  },
  "language_info": {
   "codemirror_mode": {
    "name": "ipython",
    "version": 2
   },
   "file_extension": ".py",
   "mimetype": "text/x-python",
   "name": "python",
   "nbconvert_exporter": "python",
   "pygments_lexer": "ipython2",
   "version": "2.7.6"
  }
 },
 "nbformat": 4,
 "nbformat_minor": 5
}
