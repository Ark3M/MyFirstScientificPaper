{
 "cells": [
  {
   "cell_type": "markdown",
   "source": [
    "# Rejection-based EEG Signal Classification"
   ],
   "metadata": {
    "collapsed": false
   },
   "id": "84dd4b03a4600510"
  },
  {
   "cell_type": "markdown",
   "source": [
    "## Import Libraries"
   ],
   "metadata": {
    "collapsed": false
   },
   "id": "3b8867c91c1dd6f4"
  },
  {
   "cell_type": "code",
   "execution_count": 20,
   "id": "initial_id",
   "metadata": {
    "collapsed": true,
    "ExecuteTime": {
     "end_time": "2024-04-04T15:29:36.839807500Z",
     "start_time": "2024-04-04T15:29:36.663065500Z"
    }
   },
   "outputs": [],
   "source": [
    "import warnings\n",
    "\n",
    "import matplotlib.pyplot as plt\n",
    "import moabb\n",
    "import numpy as np\n",
    "import pandas as pd\n",
    "import seaborn as sns\n",
    "from mne.decoding import CSP\n",
    "from moabb.datasets import BNCI2014_001, BNCI2014_004, Cho2017\n",
    "from moabb.evaluations import (CrossSessionEvaluation, CrossSubjectEvaluation,\n",
    "                               WithinSessionEvaluation)\n",
    "from moabb.paradigms import LeftRightImagery, MotorImagery\n",
    "from pyriemann.estimation import Covariances\n",
    "from pyriemann.tangentspace import TangentSpace\n",
    "from sklearn.discriminant_analysis import LinearDiscriminantAnalysis as LDA\n",
    "from sklearn.linear_model import LogisticRegression\n",
    "from sklearn.naive_bayes import GaussianNB\n",
    "from sklearn.pipeline import make_pipeline\n",
    "\n",
    "moabb.set_log_level(\"info\")\n",
    "warnings.filterwarnings(\"ignore\")"
   ]
  },
  {
   "cell_type": "markdown",
   "source": [
    "## Instantiate a Dataset"
   ],
   "metadata": {
    "collapsed": false
   },
   "id": "4330516cbf130308"
  },
  {
   "cell_type": "code",
   "outputs": [],
   "source": [
    "dataset = BNCI2014_001()\n",
    "dataset.subject_list = dataset.subject_list[:1]\n",
    "\n",
    "datasets = [dataset]"
   ],
   "metadata": {
    "collapsed": false,
    "ExecuteTime": {
     "end_time": "2024-04-04T15:29:36.873842500Z",
     "start_time": "2024-04-04T15:29:36.844789900Z"
    }
   },
   "id": "1527f20db342485e",
   "execution_count": 21
  },
  {
   "cell_type": "markdown",
   "source": [
    "An example of an EEG record obtained under the `mne` format, stored in a dictionary of sessions and runs."
   ],
   "metadata": {
    "collapsed": false
   },
   "id": "70f403b39c6635a6"
  },
  {
   "cell_type": "code",
   "outputs": [],
   "source": [
    "sessions = dataset.get_data()"
   ],
   "metadata": {
    "collapsed": false,
    "ExecuteTime": {
     "end_time": "2024-04-04T15:29:39.363898700Z",
     "start_time": "2024-04-04T15:29:36.872843300Z"
    }
   },
   "id": "b8991768bece9842",
   "execution_count": 22
  },
  {
   "cell_type": "code",
   "outputs": [
    {
     "data": {
      "text/plain": "{1: {'0train': {'0': <RawArray | 26 x 96735 (386.9 s), ~19.2 MB, data loaded>,\n   '1': <RawArray | 26 x 96735 (386.9 s), ~19.2 MB, data loaded>,\n   '2': <RawArray | 26 x 96735 (386.9 s), ~19.2 MB, data loaded>,\n   '3': <RawArray | 26 x 96735 (386.9 s), ~19.2 MB, data loaded>,\n   '4': <RawArray | 26 x 96735 (386.9 s), ~19.2 MB, data loaded>,\n   '5': <RawArray | 26 x 96735 (386.9 s), ~19.2 MB, data loaded>},\n  '1test': {'0': <RawArray | 26 x 96735 (386.9 s), ~19.2 MB, data loaded>,\n   '1': <RawArray | 26 x 96735 (386.9 s), ~19.2 MB, data loaded>,\n   '2': <RawArray | 26 x 96735 (386.9 s), ~19.2 MB, data loaded>,\n   '3': <RawArray | 26 x 96735 (386.9 s), ~19.2 MB, data loaded>,\n   '4': <RawArray | 26 x 96735 (386.9 s), ~19.2 MB, data loaded>,\n   '5': <RawArray | 26 x 96735 (386.9 s), ~19.2 MB, data loaded>}}}"
     },
     "execution_count": 23,
     "metadata": {},
     "output_type": "execute_result"
    }
   ],
   "source": [
    "sessions"
   ],
   "metadata": {
    "collapsed": false,
    "ExecuteTime": {
     "end_time": "2024-04-04T15:29:39.419079100Z",
     "start_time": "2024-04-04T15:29:39.365891200Z"
    }
   },
   "id": "bfee8372ddae931f",
   "execution_count": 23
  },
  {
   "cell_type": "markdown",
   "source": [
    "## Choose a Paradigm"
   ],
   "metadata": {
    "collapsed": false
   },
   "id": "b4a525055f6abfd0"
  },
  {
   "cell_type": "code",
   "outputs": [
    {
     "name": "stdout",
     "output_type": "stream",
     "text": [
      "imagery\n"
     ]
    }
   ],
   "source": [
    "print(dataset.paradigm)"
   ],
   "metadata": {
    "collapsed": false,
    "ExecuteTime": {
     "end_time": "2024-04-04T15:29:39.454226Z",
     "start_time": "2024-04-04T15:29:39.397048Z"
    }
   },
   "id": "4569a3201976288f",
   "execution_count": 24
  },
  {
   "cell_type": "code",
   "outputs": [
    {
     "name": "stderr",
     "output_type": "stream",
     "text": [
      "2024-04-04 18:29:39,519 WARNING MainThread moabb.paradigms.motor_imagery Choosing from all possible events\n"
     ]
    }
   ],
   "source": [
    "paradigm = MotorImagery(n_classes=4)"
   ],
   "metadata": {
    "collapsed": false,
    "ExecuteTime": {
     "end_time": "2024-04-04T15:29:39.537494900Z",
     "start_time": "2024-04-04T15:29:39.446183600Z"
    }
   },
   "id": "ba55adb0217bf4dd",
   "execution_count": 25
  },
  {
   "cell_type": "code",
   "outputs": [
    {
     "data": {
      "text/plain": "[<moabb.datasets.alex_mi.AlexMI at 0x242b4fb33d0>,\n <moabb.datasets.bnci.BNCI2014_001 at 0x242b4fb3fd0>,\n <moabb.datasets.bnci.BNCI2014_002 at 0x242b4fb3760>,\n <moabb.datasets.bnci.BNCI2014_004 at 0x242b4fb36a0>,\n <moabb.datasets.bnci.BNCI2015_001 at 0x242b4fb1120>,\n <moabb.datasets.bnci.BNCI2015_004 at 0x242b4fb3520>,\n <moabb.datasets.gigadb.Cho2017 at 0x242b4fb2410>,\n <moabb.datasets.fake.FakeDataset at 0x242b4fb24d0>,\n <moabb.datasets.mpi_mi.GrosseWentrup2009 at 0x242b4fb34c0>,\n <moabb.datasets.Lee2019.Lee2019_MI at 0x242b4fb11e0>,\n <moabb.datasets.upper_limb.Ofner2017 at 0x242b4fb1f30>,\n <moabb.datasets.physionet_mi.PhysionetMI at 0x242b4fb0340>,\n <moabb.datasets.schirrmeister2017.Schirrmeister2017 at 0x242b4fb3b50>,\n <moabb.datasets.bbci_eeg_fnirs.Shin2017A at 0x242b4fb1420>,\n <moabb.datasets.Weibo2014.Weibo2014 at 0x242b4fb2290>,\n <moabb.datasets.Zhou2016.Zhou2016 at 0x242b4fb2ad0>]"
     },
     "execution_count": 26,
     "metadata": {},
     "output_type": "execute_result"
    }
   ],
   "source": [
    "paradigm.datasets"
   ],
   "metadata": {
    "collapsed": false,
    "ExecuteTime": {
     "end_time": "2024-04-04T15:29:39.615058800Z",
     "start_time": "2024-04-04T15:29:39.537494900Z"
    }
   },
   "id": "aeaaa7130fec5fb5",
   "execution_count": 26
  },
  {
   "cell_type": "markdown",
   "source": [
    "## Unpack the Dataset"
   ],
   "metadata": {
    "collapsed": false
   },
   "id": "47f59c913e8da2ff"
  },
  {
   "cell_type": "markdown",
   "source": [
    "The data stored in the `sklearn` format."
   ],
   "metadata": {
    "collapsed": false
   },
   "id": "4dd01005479f47ed"
  },
  {
   "cell_type": "code",
   "outputs": [],
   "source": [
    "X, y, meta = paradigm.get_data(dataset=dataset)"
   ],
   "metadata": {
    "collapsed": false,
    "ExecuteTime": {
     "end_time": "2024-04-04T15:29:42.441175800Z",
     "start_time": "2024-04-04T15:29:39.617074Z"
    }
   },
   "id": "9a43d3511d3bd1d5",
   "execution_count": 27
  },
  {
   "cell_type": "code",
   "outputs": [
    {
     "name": "stdout",
     "output_type": "stream",
     "text": [
      "(576, 22, 1001) <class 'numpy.ndarray'>\n"
     ]
    }
   ],
   "source": [
    "print(X.shape, type(X))"
   ],
   "metadata": {
    "collapsed": false,
    "ExecuteTime": {
     "end_time": "2024-04-04T15:29:42.461235100Z",
     "start_time": "2024-04-04T15:29:42.444175300Z"
    }
   },
   "id": "73f3cd79b7cbcbdf",
   "execution_count": 28
  },
  {
   "cell_type": "code",
   "outputs": [
    {
     "name": "stdout",
     "output_type": "stream",
     "text": [
      "['tongue' 'feet' 'right_hand' 'left_hand' 'left_hand' 'right_hand' 'feet'\n",
      " 'tongue' 'right_hand' 'feet' 'left_hand' 'left_hand' 'left_hand' 'tongue'\n",
      " 'right_hand' 'right_hand' 'left_hand' 'left_hand' 'feet' 'left_hand'\n",
      " 'right_hand' 'tongue' 'tongue' 'feet' 'left_hand' 'tongue' 'tongue'\n",
      " 'right_hand' 'tongue' 'tongue' 'right_hand' 'left_hand' 'right_hand'\n",
      " 'feet' 'feet' 'feet' 'tongue' 'feet' 'left_hand' 'tongue' 'right_hand'\n",
      " 'feet' 'right_hand' 'feet' 'tongue' 'right_hand' 'feet' 'left_hand'\n",
      " 'left_hand' 'left_hand' 'tongue' 'right_hand' 'left_hand' 'feet'\n",
      " 'left_hand' 'feet' 'right_hand' 'tongue' 'left_hand' 'feet' 'feet'\n",
      " 'left_hand' 'feet' 'right_hand' 'tongue' 'tongue' 'tongue' 'feet'\n",
      " 'left_hand' 'tongue' 'right_hand' 'tongue' 'right_hand' 'left_hand'\n",
      " 'feet' 'right_hand' 'left_hand' 'feet' 'feet' 'left_hand' 'feet' 'tongue'\n",
      " 'tongue' 'right_hand' 'left_hand' 'right_hand' 'tongue' 'right_hand'\n",
      " 'tongue' 'feet' 'right_hand' 'right_hand' 'right_hand' 'feet' 'tongue'\n",
      " 'left_hand' 'right_hand' 'tongue' 'left_hand' 'feet' 'feet' 'tongue'\n",
      " 'left_hand' 'left_hand' 'feet' 'right_hand' 'tongue' 'tongue' 'tongue'\n",
      " 'right_hand' 'left_hand' 'feet' 'right_hand' 'tongue' 'left_hand'\n",
      " 'tongue' 'feet' 'right_hand' 'tongue' 'tongue' 'left_hand' 'right_hand'\n",
      " 'right_hand' 'feet' 'tongue' 'right_hand' 'left_hand' 'left_hand'\n",
      " 'tongue' 'right_hand' 'left_hand' 'feet' 'right_hand' 'right_hand' 'feet'\n",
      " 'left_hand' 'tongue' 'feet' 'feet' 'feet' 'feet' 'left_hand' 'right_hand'\n",
      " 'left_hand' 'right_hand' 'left_hand' 'left_hand' 'feet' 'feet'\n",
      " 'right_hand' 'feet' 'tongue' 'left_hand' 'tongue' 'left_hand' 'left_hand'\n",
      " 'right_hand' 'tongue' 'feet' 'right_hand' 'tongue' 'feet' 'tongue' 'feet'\n",
      " 'tongue' 'right_hand' 'right_hand' 'tongue' 'left_hand' 'right_hand'\n",
      " 'right_hand' 'right_hand' 'feet' 'tongue' 'left_hand' 'tongue'\n",
      " 'left_hand' 'feet' 'left_hand' 'tongue' 'left_hand' 'feet' 'left_hand'\n",
      " 'right_hand' 'feet' 'feet' 'tongue' 'left_hand' 'right_hand' 'tongue'\n",
      " 'right_hand' 'feet' 'feet' 'left_hand' 'tongue' 'right_hand' 'tongue'\n",
      " 'left_hand' 'left_hand' 'feet' 'feet' 'right_hand' 'tongue' 'right_hand'\n",
      " 'right_hand' 'left_hand' 'right_hand' 'tongue' 'tongue' 'right_hand'\n",
      " 'right_hand' 'right_hand' 'right_hand' 'tongue' 'tongue' 'feet' 'tongue'\n",
      " 'left_hand' 'right_hand' 'feet' 'right_hand' 'left_hand' 'tongue'\n",
      " 'left_hand' 'tongue' 'left_hand' 'left_hand' 'left_hand' 'left_hand'\n",
      " 'feet' 'feet' 'tongue' 'right_hand' 'feet' 'feet' 'feet' 'tongue' 'feet'\n",
      " 'left_hand' 'feet' 'left_hand' 'tongue' 'right_hand' 'tongue' 'tongue'\n",
      " 'feet' 'tongue' 'tongue' 'feet' 'right_hand' 'tongue' 'feet' 'left_hand'\n",
      " 'right_hand' 'right_hand' 'right_hand' 'feet' 'right_hand' 'tongue'\n",
      " 'feet' 'tongue' 'right_hand' 'feet' 'left_hand' 'tongue' 'left_hand'\n",
      " 'feet' 'tongue' 'left_hand' 'feet' 'left_hand' 'right_hand' 'right_hand'\n",
      " 'left_hand' 'tongue' 'left_hand' 'tongue' 'feet' 'feet' 'left_hand'\n",
      " 'feet' 'right_hand' 'right_hand' 'left_hand' 'feet' 'left_hand'\n",
      " 'right_hand' 'left_hand' 'left_hand' 'right_hand' 'right_hand'\n",
      " 'left_hand' 'right_hand' 'left_hand' 'right_hand' 'feet' 'right_hand'\n",
      " 'tongue' 'left_hand' 'feet' 'right_hand' 'left_hand' 'tongue' 'tongue'\n",
      " 'tongue' 'tongue' 'tongue' 'left_hand' 'feet' 'right_hand' 'left_hand'\n",
      " 'left_hand' 'feet' 'tongue' 'left_hand' 'feet' 'feet' 'feet' 'left_hand'\n",
      " 'right_hand' 'left_hand' 'right_hand' 'right_hand' 'left_hand'\n",
      " 'right_hand' 'feet' 'right_hand' 'feet' 'feet' 'tongue' 'feet' 'feet'\n",
      " 'tongue' 'tongue' 'tongue' 'tongue' 'tongue' 'feet' 'right_hand'\n",
      " 'left_hand' 'left_hand' 'right_hand' 'feet' 'tongue' 'right_hand' 'feet'\n",
      " 'left_hand' 'left_hand' 'left_hand' 'tongue' 'right_hand' 'right_hand'\n",
      " 'left_hand' 'left_hand' 'feet' 'left_hand' 'right_hand' 'tongue' 'tongue'\n",
      " 'feet' 'left_hand' 'tongue' 'tongue' 'right_hand' 'tongue' 'tongue'\n",
      " 'right_hand' 'left_hand' 'right_hand' 'feet' 'feet' 'feet' 'tongue'\n",
      " 'feet' 'left_hand' 'tongue' 'right_hand' 'feet' 'right_hand' 'feet'\n",
      " 'tongue' 'right_hand' 'feet' 'left_hand' 'left_hand' 'left_hand' 'tongue'\n",
      " 'right_hand' 'left_hand' 'feet' 'left_hand' 'feet' 'right_hand' 'tongue'\n",
      " 'left_hand' 'feet' 'feet' 'left_hand' 'feet' 'right_hand' 'tongue'\n",
      " 'tongue' 'tongue' 'feet' 'left_hand' 'tongue' 'right_hand' 'tongue'\n",
      " 'right_hand' 'left_hand' 'feet' 'right_hand' 'left_hand' 'feet' 'feet'\n",
      " 'left_hand' 'feet' 'tongue' 'tongue' 'right_hand' 'left_hand'\n",
      " 'right_hand' 'tongue' 'right_hand' 'tongue' 'feet' 'right_hand'\n",
      " 'right_hand' 'right_hand' 'feet' 'tongue' 'left_hand' 'right_hand'\n",
      " 'tongue' 'left_hand' 'feet' 'feet' 'tongue' 'left_hand' 'left_hand'\n",
      " 'feet' 'right_hand' 'tongue' 'tongue' 'tongue' 'right_hand' 'left_hand'\n",
      " 'feet' 'right_hand' 'tongue' 'left_hand' 'tongue' 'feet' 'right_hand'\n",
      " 'tongue' 'tongue' 'left_hand' 'right_hand' 'right_hand' 'feet' 'tongue'\n",
      " 'right_hand' 'left_hand' 'left_hand' 'tongue' 'right_hand' 'left_hand'\n",
      " 'feet' 'right_hand' 'right_hand' 'feet' 'left_hand' 'tongue' 'feet'\n",
      " 'feet' 'feet' 'feet' 'left_hand' 'right_hand' 'left_hand' 'right_hand'\n",
      " 'left_hand' 'left_hand' 'feet' 'feet' 'right_hand' 'feet' 'tongue'\n",
      " 'left_hand' 'tongue' 'left_hand' 'left_hand' 'right_hand' 'tongue' 'feet'\n",
      " 'right_hand' 'tongue' 'feet' 'tongue' 'feet' 'tongue' 'right_hand'\n",
      " 'right_hand' 'tongue' 'left_hand' 'right_hand' 'right_hand' 'right_hand'\n",
      " 'feet' 'tongue' 'left_hand' 'tongue' 'left_hand' 'feet' 'left_hand'\n",
      " 'tongue' 'left_hand' 'feet' 'left_hand' 'right_hand' 'feet' 'feet'\n",
      " 'tongue' 'left_hand' 'right_hand' 'tongue' 'right_hand' 'feet' 'feet'\n",
      " 'left_hand' 'tongue' 'right_hand' 'tongue' 'left_hand' 'left_hand' 'feet'\n",
      " 'feet' 'right_hand' 'tongue' 'right_hand' 'right_hand' 'left_hand'\n",
      " 'right_hand' 'tongue' 'tongue' 'right_hand' 'right_hand' 'right_hand'\n",
      " 'right_hand' 'tongue' 'tongue' 'feet' 'tongue' 'left_hand' 'right_hand'\n",
      " 'feet' 'right_hand' 'left_hand' 'tongue' 'left_hand' 'tongue' 'left_hand'\n",
      " 'left_hand' 'left_hand' 'left_hand' 'feet' 'feet' 'tongue' 'right_hand'\n",
      " 'feet' 'feet' 'feet' 'tongue' 'feet' 'left_hand' 'feet'] \n",
      " <class 'numpy.ndarray'>\n",
      "The number of labels: 576\n"
     ]
    }
   ],
   "source": [
    "print(y, \"\\n\", type(y))\n",
    "print(\"The number of labels:\", len(y))"
   ],
   "metadata": {
    "collapsed": false,
    "ExecuteTime": {
     "end_time": "2024-04-04T15:29:42.539391600Z",
     "start_time": "2024-04-04T15:29:42.459227500Z"
    }
   },
   "id": "881dc25494be0c59",
   "execution_count": 29
  },
  {
   "cell_type": "code",
   "outputs": [
    {
     "name": "stdout",
     "output_type": "stream",
     "text": [
      "     subject session run\n",
      "0          1  0train   0\n",
      "1          1  0train   0\n",
      "2          1  0train   0\n",
      "3          1  0train   0\n",
      "4          1  0train   0\n",
      "..       ...     ...  ..\n",
      "571        1   1test   5\n",
      "572        1   1test   5\n",
      "573        1   1test   5\n",
      "574        1   1test   5\n",
      "575        1   1test   5\n",
      "\n",
      "[576 rows x 3 columns]\n"
     ]
    }
   ],
   "source": [
    "print(meta)"
   ],
   "metadata": {
    "collapsed": false,
    "ExecuteTime": {
     "end_time": "2024-04-04T15:29:42.621231700Z",
     "start_time": "2024-04-04T15:29:42.539391600Z"
    }
   },
   "id": "8662163e5b352cc6",
   "execution_count": 30
  },
  {
   "cell_type": "code",
   "outputs": [
    {
     "name": "stdout",
     "output_type": "stream",
     "text": [
      "['0train' '1test']\n"
     ]
    }
   ],
   "source": [
    "print(np.unique(meta[\"session\"]))"
   ],
   "metadata": {
    "collapsed": false,
    "ExecuteTime": {
     "end_time": "2024-04-04T15:29:42.700700300Z",
     "start_time": "2024-04-04T15:29:42.623230800Z"
    }
   },
   "id": "fca27ebb7bfb950",
   "execution_count": 31
  },
  {
   "cell_type": "markdown",
   "source": [
    "## Create a Pipeline"
   ],
   "metadata": {
    "collapsed": false
   },
   "id": "8c689899a8b923b7"
  },
  {
   "cell_type": "code",
   "outputs": [],
   "source": [
    "pipelines = {}\n",
    "\n",
    "pipelines[\"RG+LR\"] = make_pipeline(Covariances(), TangentSpace(), LogisticRegression(solver=\"lbfgs\"))"
   ],
   "metadata": {
    "collapsed": false,
    "ExecuteTime": {
     "end_time": "2024-04-04T15:29:42.755730800Z",
     "start_time": "2024-04-04T15:29:42.702718300Z"
    }
   },
   "id": "e8c85bc399f3a6e3",
   "execution_count": 32
  },
  {
   "cell_type": "markdown",
   "source": [
    "## Evaluate a Solution"
   ],
   "metadata": {
    "collapsed": false
   },
   "id": "3b3a0406ee22a71e"
  },
  {
   "cell_type": "code",
   "outputs": [],
   "source": [
    "# Evaluate for a specific number of training samples per class.\n",
    "data_size = dict(policy=\"per_class\", value=np.array([5, 10, 30, 50]))\n",
    "# When the training data is sparse, perform more permutations than when we have a lot of data.\n",
    "n_perms = np.floor(np.geomspace(20, 2, len(data_size[\"value\"]))).astype(int)"
   ],
   "metadata": {
    "collapsed": false,
    "ExecuteTime": {
     "end_time": "2024-04-04T15:29:42.810997Z",
     "start_time": "2024-04-04T15:29:42.750724400Z"
    }
   },
   "id": "daa9e3c56fbf5133",
   "execution_count": 33
  },
  {
   "cell_type": "code",
   "outputs": [],
   "source": [
    "evaluation = WithinSessionEvaluation(\n",
    "    paradigm=paradigm,\n",
    "    datasets=datasets,\n",
    "    overwrite=True,\n",
    "    data_size=data_size,\n",
    "    n_perms=n_perms,\n",
    ")"
   ],
   "metadata": {
    "collapsed": false,
    "ExecuteTime": {
     "end_time": "2024-04-04T15:29:42.905071100Z",
     "start_time": "2024-04-04T15:29:42.811993700Z"
    }
   },
   "id": "df58013cb295f758",
   "execution_count": 34
  },
  {
   "cell_type": "code",
   "outputs": [
    {
     "name": "stderr",
     "output_type": "stream",
     "text": [
      "2024-04-04 18:29:42,940 INFO MainThread moabb.evaluations.base Processing dataset: BNCI2014-001\n",
      "BNCI2014-001-WithinSession:   0%|          | 0/1 [00:00<?, ?it/s]2024-04-04 18:29:46,052 INFO MainThread moabb.evaluations.evaluations Permutation: 1, Training samples: 20\n",
      "2024-04-04 18:29:46,096 INFO MainThread moabb.evaluations.base RG+LR | BNCI2014-001 | 1 | 0train: Score 0.707\n",
      "2024-04-04 18:29:46,267 INFO MainThread moabb.evaluations.evaluations Permutation: 1, Training samples: 40\n",
      "2024-04-04 18:29:46,330 INFO MainThread moabb.evaluations.base RG+LR | BNCI2014-001 | 1 | 0train: Score 0.690\n",
      "2024-04-04 18:29:46,534 INFO MainThread moabb.evaluations.evaluations Permutation: 1, Training samples: 120\n",
      "2024-04-04 18:29:46,680 INFO MainThread moabb.evaluations.base RG+LR | BNCI2014-001 | 1 | 0train: Score 0.776\n",
      "2024-04-04 18:29:46,836 INFO MainThread moabb.evaluations.evaluations Permutation: 1, Training samples: 200\n",
      "2024-04-04 18:29:47,036 INFO MainThread moabb.evaluations.base RG+LR | BNCI2014-001 | 1 | 0train: Score 0.776\n",
      "2024-04-04 18:29:47,220 INFO MainThread moabb.evaluations.evaluations Permutation: 2, Training samples: 20\n",
      "2024-04-04 18:29:47,270 INFO MainThread moabb.evaluations.base RG+LR | BNCI2014-001 | 1 | 0train: Score 0.741\n",
      "2024-04-04 18:29:47,442 INFO MainThread moabb.evaluations.evaluations Permutation: 2, Training samples: 40\n",
      "2024-04-04 18:29:47,507 INFO MainThread moabb.evaluations.base RG+LR | BNCI2014-001 | 1 | 0train: Score 0.707\n",
      "2024-04-04 18:29:47,688 INFO MainThread moabb.evaluations.evaluations Permutation: 2, Training samples: 120\n",
      "2024-04-04 18:29:47,821 INFO MainThread moabb.evaluations.base RG+LR | BNCI2014-001 | 1 | 0train: Score 0.741\n",
      "2024-04-04 18:29:47,987 INFO MainThread moabb.evaluations.evaluations Permutation: 2, Training samples: 200\n",
      "2024-04-04 18:29:48,195 INFO MainThread moabb.evaluations.base RG+LR | BNCI2014-001 | 1 | 0train: Score 0.793\n",
      "2024-04-04 18:29:48,374 INFO MainThread moabb.evaluations.evaluations Permutation: 3, Training samples: 20\n",
      "2024-04-04 18:29:48,423 INFO MainThread moabb.evaluations.base RG+LR | BNCI2014-001 | 1 | 0train: Score 0.690\n",
      "2024-04-04 18:29:48,580 INFO MainThread moabb.evaluations.evaluations Permutation: 3, Training samples: 40\n",
      "2024-04-04 18:29:48,648 INFO MainThread moabb.evaluations.base RG+LR | BNCI2014-001 | 1 | 0train: Score 0.793\n",
      "2024-04-04 18:29:48,804 INFO MainThread moabb.evaluations.evaluations Permutation: 3, Training samples: 120\n",
      "2024-04-04 18:29:48,934 INFO MainThread moabb.evaluations.base RG+LR | BNCI2014-001 | 1 | 0train: Score 0.845\n",
      "2024-04-04 18:29:49,100 INFO MainThread moabb.evaluations.evaluations Permutation: 4, Training samples: 20\n",
      "2024-04-04 18:29:49,150 INFO MainThread moabb.evaluations.base RG+LR | BNCI2014-001 | 1 | 0train: Score 0.707\n",
      "2024-04-04 18:29:49,301 INFO MainThread moabb.evaluations.evaluations Permutation: 4, Training samples: 40\n",
      "2024-04-04 18:29:49,364 INFO MainThread moabb.evaluations.base RG+LR | BNCI2014-001 | 1 | 0train: Score 0.862\n",
      "2024-04-04 18:29:49,514 INFO MainThread moabb.evaluations.evaluations Permutation: 4, Training samples: 120\n",
      "2024-04-04 18:29:49,656 INFO MainThread moabb.evaluations.base RG+LR | BNCI2014-001 | 1 | 0train: Score 0.862\n",
      "2024-04-04 18:29:49,825 INFO MainThread moabb.evaluations.evaluations Permutation: 5, Training samples: 20\n",
      "2024-04-04 18:29:49,872 INFO MainThread moabb.evaluations.base RG+LR | BNCI2014-001 | 1 | 0train: Score 0.741\n",
      "2024-04-04 18:29:50,019 INFO MainThread moabb.evaluations.evaluations Permutation: 5, Training samples: 40\n",
      "2024-04-04 18:29:50,087 INFO MainThread moabb.evaluations.base RG+LR | BNCI2014-001 | 1 | 0train: Score 0.776\n",
      "2024-04-04 18:29:50,270 INFO MainThread moabb.evaluations.evaluations Permutation: 6, Training samples: 20\n",
      "2024-04-04 18:29:50,319 INFO MainThread moabb.evaluations.base RG+LR | BNCI2014-001 | 1 | 0train: Score 0.707\n",
      "2024-04-04 18:29:50,470 INFO MainThread moabb.evaluations.evaluations Permutation: 6, Training samples: 40\n",
      "2024-04-04 18:29:50,535 INFO MainThread moabb.evaluations.base RG+LR | BNCI2014-001 | 1 | 0train: Score 0.776\n",
      "2024-04-04 18:29:50,710 INFO MainThread moabb.evaluations.evaluations Permutation: 7, Training samples: 20\n",
      "2024-04-04 18:29:50,758 INFO MainThread moabb.evaluations.base RG+LR | BNCI2014-001 | 1 | 0train: Score 0.603\n",
      "2024-04-04 18:29:50,910 INFO MainThread moabb.evaluations.evaluations Permutation: 7, Training samples: 40\n",
      "2024-04-04 18:29:50,972 INFO MainThread moabb.evaluations.base RG+LR | BNCI2014-001 | 1 | 0train: Score 0.655\n",
      "2024-04-04 18:29:51,143 INFO MainThread moabb.evaluations.evaluations Permutation: 8, Training samples: 20\n",
      "2024-04-04 18:29:51,193 INFO MainThread moabb.evaluations.base RG+LR | BNCI2014-001 | 1 | 0train: Score 0.672\n",
      "2024-04-04 18:29:51,338 INFO MainThread moabb.evaluations.evaluations Permutation: 8, Training samples: 40\n",
      "2024-04-04 18:29:51,403 INFO MainThread moabb.evaluations.base RG+LR | BNCI2014-001 | 1 | 0train: Score 0.741\n",
      "2024-04-04 18:29:51,569 INFO MainThread moabb.evaluations.evaluations Permutation: 9, Training samples: 20\n",
      "2024-04-04 18:29:51,616 INFO MainThread moabb.evaluations.base RG+LR | BNCI2014-001 | 1 | 0train: Score 0.672\n",
      "2024-04-04 18:29:51,768 INFO MainThread moabb.evaluations.evaluations Permutation: 9, Training samples: 40\n",
      "2024-04-04 18:29:51,830 INFO MainThread moabb.evaluations.base RG+LR | BNCI2014-001 | 1 | 0train: Score 0.759\n",
      "2024-04-04 18:29:51,992 INFO MainThread moabb.evaluations.evaluations Permutation: 10, Training samples: 20\n",
      "2024-04-04 18:29:52,040 INFO MainThread moabb.evaluations.base RG+LR | BNCI2014-001 | 1 | 0train: Score 0.690\n",
      "2024-04-04 18:29:52,218 INFO MainThread moabb.evaluations.evaluations Permutation: 11, Training samples: 20\n",
      "2024-04-04 18:29:52,266 INFO MainThread moabb.evaluations.base RG+LR | BNCI2014-001 | 1 | 0train: Score 0.655\n",
      "2024-04-04 18:29:52,442 INFO MainThread moabb.evaluations.evaluations Permutation: 12, Training samples: 20\n",
      "2024-04-04 18:29:52,488 INFO MainThread moabb.evaluations.base RG+LR | BNCI2014-001 | 1 | 0train: Score 0.690\n",
      "2024-04-04 18:29:52,657 INFO MainThread moabb.evaluations.evaluations Permutation: 13, Training samples: 20\n",
      "2024-04-04 18:29:52,705 INFO MainThread moabb.evaluations.base RG+LR | BNCI2014-001 | 1 | 0train: Score 0.603\n",
      "2024-04-04 18:29:52,869 INFO MainThread moabb.evaluations.evaluations Permutation: 14, Training samples: 20\n",
      "2024-04-04 18:29:52,917 INFO MainThread moabb.evaluations.base RG+LR | BNCI2014-001 | 1 | 0train: Score 0.724\n",
      "2024-04-04 18:29:53,080 INFO MainThread moabb.evaluations.evaluations Permutation: 15, Training samples: 20\n",
      "2024-04-04 18:29:53,127 INFO MainThread moabb.evaluations.base RG+LR | BNCI2014-001 | 1 | 0train: Score 0.603\n",
      "2024-04-04 18:29:53,314 INFO MainThread moabb.evaluations.evaluations Permutation: 16, Training samples: 20\n",
      "2024-04-04 18:29:53,360 INFO MainThread moabb.evaluations.base RG+LR | BNCI2014-001 | 1 | 0train: Score 0.672\n",
      "2024-04-04 18:29:53,529 INFO MainThread moabb.evaluations.evaluations Permutation: 17, Training samples: 20\n",
      "2024-04-04 18:29:53,580 INFO MainThread moabb.evaluations.base RG+LR | BNCI2014-001 | 1 | 0train: Score 0.621\n",
      "2024-04-04 18:29:53,747 INFO MainThread moabb.evaluations.evaluations Permutation: 18, Training samples: 20\n",
      "2024-04-04 18:29:53,792 INFO MainThread moabb.evaluations.base RG+LR | BNCI2014-001 | 1 | 0train: Score 0.759\n",
      "2024-04-04 18:29:53,965 INFO MainThread moabb.evaluations.evaluations Permutation: 19, Training samples: 20\n",
      "2024-04-04 18:29:54,011 INFO MainThread moabb.evaluations.base RG+LR | BNCI2014-001 | 1 | 0train: Score 0.638\n",
      "2024-04-04 18:29:54,184 INFO MainThread moabb.evaluations.evaluations Permutation: 20, Training samples: 20\n",
      "2024-04-04 18:29:54,235 INFO MainThread moabb.evaluations.base RG+LR | BNCI2014-001 | 1 | 0train: Score 0.690\n",
      "2024-04-04 18:29:54,427 INFO MainThread moabb.evaluations.evaluations Permutation: 1, Training samples: 20\n",
      "2024-04-04 18:29:54,474 INFO MainThread moabb.evaluations.base RG+LR | BNCI2014-001 | 1 | 1test: Score 0.724\n",
      "2024-04-04 18:29:54,630 INFO MainThread moabb.evaluations.evaluations Permutation: 1, Training samples: 40\n",
      "2024-04-04 18:29:54,695 INFO MainThread moabb.evaluations.base RG+LR | BNCI2014-001 | 1 | 1test: Score 0.793\n",
      "2024-04-04 18:29:54,853 INFO MainThread moabb.evaluations.evaluations Permutation: 1, Training samples: 120\n",
      "2024-04-04 18:29:54,983 INFO MainThread moabb.evaluations.base RG+LR | BNCI2014-001 | 1 | 1test: Score 0.914\n",
      "2024-04-04 18:29:55,131 INFO MainThread moabb.evaluations.evaluations Permutation: 1, Training samples: 200\n",
      "2024-04-04 18:29:55,361 INFO MainThread moabb.evaluations.base RG+LR | BNCI2014-001 | 1 | 1test: Score 0.879\n",
      "2024-04-04 18:29:55,530 INFO MainThread moabb.evaluations.evaluations Permutation: 2, Training samples: 20\n",
      "2024-04-04 18:29:55,586 INFO MainThread moabb.evaluations.base RG+LR | BNCI2014-001 | 1 | 1test: Score 0.586\n",
      "2024-04-04 18:29:55,736 INFO MainThread moabb.evaluations.evaluations Permutation: 2, Training samples: 40\n",
      "2024-04-04 18:29:55,799 INFO MainThread moabb.evaluations.base RG+LR | BNCI2014-001 | 1 | 1test: Score 0.655\n",
      "2024-04-04 18:29:55,946 INFO MainThread moabb.evaluations.evaluations Permutation: 2, Training samples: 120\n",
      "2024-04-04 18:29:56,076 INFO MainThread moabb.evaluations.base RG+LR | BNCI2014-001 | 1 | 1test: Score 0.776\n",
      "2024-04-04 18:29:56,280 INFO MainThread moabb.evaluations.evaluations Permutation: 2, Training samples: 200\n",
      "2024-04-04 18:29:56,478 INFO MainThread moabb.evaluations.base RG+LR | BNCI2014-001 | 1 | 1test: Score 0.793\n",
      "2024-04-04 18:29:56,644 INFO MainThread moabb.evaluations.evaluations Permutation: 3, Training samples: 20\n",
      "2024-04-04 18:29:56,692 INFO MainThread moabb.evaluations.base RG+LR | BNCI2014-001 | 1 | 1test: Score 0.621\n",
      "2024-04-04 18:29:56,862 INFO MainThread moabb.evaluations.evaluations Permutation: 3, Training samples: 40\n",
      "2024-04-04 18:29:56,926 INFO MainThread moabb.evaluations.base RG+LR | BNCI2014-001 | 1 | 1test: Score 0.534\n",
      "2024-04-04 18:29:57,075 INFO MainThread moabb.evaluations.evaluations Permutation: 3, Training samples: 120\n",
      "2024-04-04 18:29:57,209 INFO MainThread moabb.evaluations.base RG+LR | BNCI2014-001 | 1 | 1test: Score 0.810\n",
      "2024-04-04 18:29:57,380 INFO MainThread moabb.evaluations.evaluations Permutation: 4, Training samples: 20\n",
      "2024-04-04 18:29:57,428 INFO MainThread moabb.evaluations.base RG+LR | BNCI2014-001 | 1 | 1test: Score 0.638\n",
      "2024-04-04 18:29:57,576 INFO MainThread moabb.evaluations.evaluations Permutation: 4, Training samples: 40\n",
      "2024-04-04 18:29:57,639 INFO MainThread moabb.evaluations.base RG+LR | BNCI2014-001 | 1 | 1test: Score 0.741\n",
      "2024-04-04 18:29:57,814 INFO MainThread moabb.evaluations.evaluations Permutation: 4, Training samples: 120\n",
      "2024-04-04 18:29:57,945 INFO MainThread moabb.evaluations.base RG+LR | BNCI2014-001 | 1 | 1test: Score 0.828\n",
      "2024-04-04 18:29:58,106 INFO MainThread moabb.evaluations.evaluations Permutation: 5, Training samples: 20\n",
      "2024-04-04 18:29:58,156 INFO MainThread moabb.evaluations.base RG+LR | BNCI2014-001 | 1 | 1test: Score 0.690\n",
      "2024-04-04 18:29:58,318 INFO MainThread moabb.evaluations.evaluations Permutation: 5, Training samples: 40\n",
      "2024-04-04 18:29:58,386 INFO MainThread moabb.evaluations.base RG+LR | BNCI2014-001 | 1 | 1test: Score 0.707\n",
      "2024-04-04 18:29:58,565 INFO MainThread moabb.evaluations.evaluations Permutation: 6, Training samples: 20\n",
      "2024-04-04 18:29:58,617 INFO MainThread moabb.evaluations.base RG+LR | BNCI2014-001 | 1 | 1test: Score 0.724\n",
      "2024-04-04 18:29:58,764 INFO MainThread moabb.evaluations.evaluations Permutation: 6, Training samples: 40\n",
      "2024-04-04 18:29:58,831 INFO MainThread moabb.evaluations.base RG+LR | BNCI2014-001 | 1 | 1test: Score 0.707\n",
      "2024-04-04 18:29:59,017 INFO MainThread moabb.evaluations.evaluations Permutation: 7, Training samples: 20\n",
      "2024-04-04 18:29:59,069 INFO MainThread moabb.evaluations.base RG+LR | BNCI2014-001 | 1 | 1test: Score 0.707\n",
      "2024-04-04 18:29:59,244 INFO MainThread moabb.evaluations.evaluations Permutation: 7, Training samples: 40\n",
      "2024-04-04 18:29:59,312 INFO MainThread moabb.evaluations.base RG+LR | BNCI2014-001 | 1 | 1test: Score 0.759\n",
      "2024-04-04 18:29:59,512 INFO MainThread moabb.evaluations.evaluations Permutation: 8, Training samples: 20\n",
      "2024-04-04 18:29:59,568 INFO MainThread moabb.evaluations.base RG+LR | BNCI2014-001 | 1 | 1test: Score 0.690\n",
      "2024-04-04 18:29:59,728 INFO MainThread moabb.evaluations.evaluations Permutation: 8, Training samples: 40\n",
      "2024-04-04 18:29:59,794 INFO MainThread moabb.evaluations.base RG+LR | BNCI2014-001 | 1 | 1test: Score 0.776\n",
      "2024-04-04 18:29:59,967 INFO MainThread moabb.evaluations.evaluations Permutation: 9, Training samples: 20\n",
      "2024-04-04 18:30:00,020 INFO MainThread moabb.evaluations.base RG+LR | BNCI2014-001 | 1 | 1test: Score 0.586\n",
      "2024-04-04 18:30:00,172 INFO MainThread moabb.evaluations.evaluations Permutation: 9, Training samples: 40\n",
      "2024-04-04 18:30:00,235 INFO MainThread moabb.evaluations.base RG+LR | BNCI2014-001 | 1 | 1test: Score 0.638\n",
      "2024-04-04 18:30:00,421 INFO MainThread moabb.evaluations.evaluations Permutation: 10, Training samples: 20\n",
      "2024-04-04 18:30:00,484 INFO MainThread moabb.evaluations.base RG+LR | BNCI2014-001 | 1 | 1test: Score 0.621\n",
      "2024-04-04 18:30:00,666 INFO MainThread moabb.evaluations.evaluations Permutation: 11, Training samples: 20\n",
      "2024-04-04 18:30:00,712 INFO MainThread moabb.evaluations.base RG+LR | BNCI2014-001 | 1 | 1test: Score 0.603\n",
      "2024-04-04 18:30:00,882 INFO MainThread moabb.evaluations.evaluations Permutation: 12, Training samples: 20\n",
      "2024-04-04 18:30:00,928 INFO MainThread moabb.evaluations.base RG+LR | BNCI2014-001 | 1 | 1test: Score 0.690\n",
      "2024-04-04 18:30:01,094 INFO MainThread moabb.evaluations.evaluations Permutation: 13, Training samples: 20\n",
      "2024-04-04 18:30:01,142 INFO MainThread moabb.evaluations.base RG+LR | BNCI2014-001 | 1 | 1test: Score 0.655\n",
      "2024-04-04 18:30:01,317 INFO MainThread moabb.evaluations.evaluations Permutation: 14, Training samples: 20\n",
      "2024-04-04 18:30:01,367 INFO MainThread moabb.evaluations.base RG+LR | BNCI2014-001 | 1 | 1test: Score 0.707\n",
      "2024-04-04 18:30:01,537 INFO MainThread moabb.evaluations.evaluations Permutation: 15, Training samples: 20\n",
      "2024-04-04 18:30:01,588 INFO MainThread moabb.evaluations.base RG+LR | BNCI2014-001 | 1 | 1test: Score 0.690\n",
      "2024-04-04 18:30:01,753 INFO MainThread moabb.evaluations.evaluations Permutation: 16, Training samples: 20\n",
      "2024-04-04 18:30:01,800 INFO MainThread moabb.evaluations.base RG+LR | BNCI2014-001 | 1 | 1test: Score 0.517\n",
      "2024-04-04 18:30:01,976 INFO MainThread moabb.evaluations.evaluations Permutation: 17, Training samples: 20\n",
      "2024-04-04 18:30:02,025 INFO MainThread moabb.evaluations.base RG+LR | BNCI2014-001 | 1 | 1test: Score 0.552\n",
      "2024-04-04 18:30:02,213 INFO MainThread moabb.evaluations.evaluations Permutation: 18, Training samples: 20\n",
      "2024-04-04 18:30:02,259 INFO MainThread moabb.evaluations.base RG+LR | BNCI2014-001 | 1 | 1test: Score 0.586\n",
      "2024-04-04 18:30:02,441 INFO MainThread moabb.evaluations.evaluations Permutation: 19, Training samples: 20\n",
      "2024-04-04 18:30:02,493 INFO MainThread moabb.evaluations.base RG+LR | BNCI2014-001 | 1 | 1test: Score 0.655\n",
      "2024-04-04 18:30:02,680 INFO MainThread moabb.evaluations.evaluations Permutation: 20, Training samples: 20\n",
      "2024-04-04 18:30:02,727 INFO MainThread moabb.evaluations.base RG+LR | BNCI2014-001 | 1 | 1test: Score 0.707\n",
      "BNCI2014-001-WithinSession: 100%|██████████| 1/1 [00:19<00:00, 19.95s/it]\n"
     ]
    }
   ],
   "source": [
    "results = evaluation.process(pipelines)"
   ],
   "metadata": {
    "collapsed": false,
    "ExecuteTime": {
     "end_time": "2024-04-04T15:30:03.079536300Z",
     "start_time": "2024-04-04T15:29:42.906071600Z"
    }
   },
   "id": "8b2c28a36d218692",
   "execution_count": 35
  },
  {
   "cell_type": "code",
   "outputs": [
    {
     "data": {
      "text/plain": "      score      time  samples  data_size  permutation subject session  \\\n0  0.706897  0.041033     20.0       20.0          1.0       1  0train   \n1  0.689655  0.059046     40.0       40.0          1.0       1  0train   \n2  0.775862  0.135094    120.0      120.0          1.0       1  0train   \n3  0.775862  0.188067    200.0      200.0          1.0       1  0train   \n4  0.741379  0.045160     20.0       20.0          2.0       1  0train   \n\n   channels  n_sessions       dataset pipeline  \n0        22           2  BNCI2014-001    RG+LR  \n1        22           2  BNCI2014-001    RG+LR  \n2        22           2  BNCI2014-001    RG+LR  \n3        22           2  BNCI2014-001    RG+LR  \n4        22           2  BNCI2014-001    RG+LR  ",
      "text/html": "<div>\n<style scoped>\n    .dataframe tbody tr th:only-of-type {\n        vertical-align: middle;\n    }\n\n    .dataframe tbody tr th {\n        vertical-align: top;\n    }\n\n    .dataframe thead th {\n        text-align: right;\n    }\n</style>\n<table border=\"1\" class=\"dataframe\">\n  <thead>\n    <tr style=\"text-align: right;\">\n      <th></th>\n      <th>score</th>\n      <th>time</th>\n      <th>samples</th>\n      <th>data_size</th>\n      <th>permutation</th>\n      <th>subject</th>\n      <th>session</th>\n      <th>channels</th>\n      <th>n_sessions</th>\n      <th>dataset</th>\n      <th>pipeline</th>\n    </tr>\n  </thead>\n  <tbody>\n    <tr>\n      <th>0</th>\n      <td>0.706897</td>\n      <td>0.041033</td>\n      <td>20.0</td>\n      <td>20.0</td>\n      <td>1.0</td>\n      <td>1</td>\n      <td>0train</td>\n      <td>22</td>\n      <td>2</td>\n      <td>BNCI2014-001</td>\n      <td>RG+LR</td>\n    </tr>\n    <tr>\n      <th>1</th>\n      <td>0.689655</td>\n      <td>0.059046</td>\n      <td>40.0</td>\n      <td>40.0</td>\n      <td>1.0</td>\n      <td>1</td>\n      <td>0train</td>\n      <td>22</td>\n      <td>2</td>\n      <td>BNCI2014-001</td>\n      <td>RG+LR</td>\n    </tr>\n    <tr>\n      <th>2</th>\n      <td>0.775862</td>\n      <td>0.135094</td>\n      <td>120.0</td>\n      <td>120.0</td>\n      <td>1.0</td>\n      <td>1</td>\n      <td>0train</td>\n      <td>22</td>\n      <td>2</td>\n      <td>BNCI2014-001</td>\n      <td>RG+LR</td>\n    </tr>\n    <tr>\n      <th>3</th>\n      <td>0.775862</td>\n      <td>0.188067</td>\n      <td>200.0</td>\n      <td>200.0</td>\n      <td>1.0</td>\n      <td>1</td>\n      <td>0train</td>\n      <td>22</td>\n      <td>2</td>\n      <td>BNCI2014-001</td>\n      <td>RG+LR</td>\n    </tr>\n    <tr>\n      <th>4</th>\n      <td>0.741379</td>\n      <td>0.045160</td>\n      <td>20.0</td>\n      <td>20.0</td>\n      <td>2.0</td>\n      <td>1</td>\n      <td>0train</td>\n      <td>22</td>\n      <td>2</td>\n      <td>BNCI2014-001</td>\n      <td>RG+LR</td>\n    </tr>\n  </tbody>\n</table>\n</div>"
     },
     "execution_count": 36,
     "metadata": {},
     "output_type": "execute_result"
    }
   ],
   "source": [
    "results.head(n=5)"
   ],
   "metadata": {
    "collapsed": false,
    "ExecuteTime": {
     "end_time": "2024-04-04T15:30:03.120741Z",
     "start_time": "2024-04-04T15:30:03.082633200Z"
    }
   },
   "id": "ea10ac12a01a4bcd",
   "execution_count": 36
  },
  {
   "cell_type": "code",
   "outputs": [],
   "source": [
    "results.to_csv(\"./results.csv\")"
   ],
   "metadata": {
    "collapsed": false,
    "ExecuteTime": {
     "end_time": "2024-04-04T15:30:03.295140200Z",
     "start_time": "2024-04-04T15:30:03.115732900Z"
    }
   },
   "id": "67bb4f12dfaecc66",
   "execution_count": 37
  },
  {
   "cell_type": "code",
   "outputs": [],
   "source": [
    "results = pd.read_csv(\"./results.csv\")"
   ],
   "metadata": {
    "collapsed": false,
    "ExecuteTime": {
     "end_time": "2024-04-04T15:30:03.308181900Z",
     "start_time": "2024-04-04T15:30:03.177803600Z"
    }
   },
   "id": "bfb291c318b374d5",
   "execution_count": 38
  },
  {
   "cell_type": "markdown",
   "source": [
    "## Plot the Results"
   ],
   "metadata": {
    "collapsed": false
   },
   "id": "8b4b029b820be4f3"
  },
  {
   "cell_type": "code",
   "outputs": [
    {
     "data": {
      "text/plain": "<Figure size 800x400 with 1 Axes>",
      "image/png": "[encoded data removed]"
     },
     "metadata": {},
     "output_type": "display_data"
    }
   ],
   "source": [
    "fig, ax = plt.subplots(facecolor=\"white\", figsize=[8, 4])\n",
    "\n",
    "n_subs = len(dataset.subject_list)\n",
    "\n",
    "if n_subs > 1:\n",
    "    r = results.groupby([\"pipeline\", \"subject\", \"data_size\"]).mean().reset_index()\n",
    "else:\n",
    "    r = results\n",
    "\n",
    "sns.pointplot(data=r, x=\"data_size\", y=\"score\", hue=\"pipeline\", ax=ax, palette=\"Set1\")\n",
    "\n",
    "errbar_meaning = \"subjects\" if n_subs > 1 else \"permutations\"\n",
    "title_str = f\"Error bar shows Mean-CI across {errbar_meaning}\"\n",
    "ax.set_xlabel(\"Amount of training samples\")\n",
    "ax.set_ylabel(\"ROC AUC\")\n",
    "ax.set_title(title_str)\n",
    "fig.tight_layout()\n",
    "plt.show()"
   ],
   "metadata": {
    "collapsed": false,
    "ExecuteTime": {
     "end_time": "2024-04-04T15:30:03.698437500Z",
     "start_time": "2024-04-04T15:30:03.258883700Z"
    }
   },
   "id": "e2746b9ec615c21c",
   "execution_count": 39
  }
 ],
 "metadata": {
  "kernelspec": {
   "display_name": "Python 3",
   "language": "python",
   "name": "python3"
  },
  "language_info": {
   "codemirror_mode": {
    "name": "ipython",
    "version": 2
   },
   "file_extension": ".py",
   "mimetype": "text/x-python",
   "name": "python",
   "nbconvert_exporter": "python",
   "pygments_lexer": "ipython2",
   "version": "2.7.6"
  }
 },
 "nbformat": 4,
 "nbformat_minor": 5
}
