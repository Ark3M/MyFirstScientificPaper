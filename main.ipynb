{
 "cells": [
  {
   "cell_type": "markdown",
   "source": [
    "# Rejection-based EEG Signal Classification"
   ],
   "metadata": {
    "collapsed": false
   },
   "id": "84dd4b03a4600510"
  },
  {
   "cell_type": "markdown",
   "source": [
    "## Import libraries"
   ],
   "metadata": {
    "collapsed": false
   },
   "id": "3b8867c91c1dd6f4"
  },
  {
   "cell_type": "code",
   "execution_count": 1,
   "id": "initial_id",
   "metadata": {
    "collapsed": true,
    "ExecuteTime": {
     "end_time": "2024-03-31T17:42:23.986212900Z",
     "start_time": "2024-03-31T17:42:16.723167900Z"
    }
   },
   "outputs": [
    {
     "name": "stderr",
     "output_type": "stream",
     "text": [
      "<frozen importlib._bootstrap>:241: FutureWarning: mne.io.pick.pick_types is deprecated will be removed in 1.6, use documented public API instead. If no appropriate public API exists, please open an issue on GitHub.\n",
      "<frozen importlib._bootstrap>:241: FutureWarning: mne.io.pick.pick_channels_regexp is deprecated will be removed in 1.6, use documented public API instead. If no appropriate public API exists, please open an issue on GitHub.\n",
      "<frozen importlib._bootstrap>:241: FutureWarning: mne.io.pick.channel_type is deprecated will be removed in 1.6, use documented public API instead. If no appropriate public API exists, please open an issue on GitHub.\n",
      "C:\\Users\\sting\\AppData\\Local\\Programs\\Python\\Python310\\lib\\site-packages\\moabb\\pipelines\\__init__.py:26: ModuleNotFoundError: Tensorflow is not installed. You won't be able to use these MOABB pipelines if you attempt to do so.\n",
      "  warn(\n"
     ]
    }
   ],
   "source": [
    "import warnings\n",
    "\n",
    "import matplotlib.pyplot as plt\n",
    "import pandas as pd\n",
    "import seaborn as sns\n",
    "from mne.decoding import CSP\n",
    "from sklearn.discriminant_analysis import LinearDiscriminantAnalysis as LDA\n",
    "from sklearn.naive_bayes import GaussianNB\n",
    "from sklearn.pipeline import make_pipeline\n",
    "\n",
    "import moabb\n",
    "from moabb.datasets import BNCI2014_001\n",
    "from moabb.evaluations import WithinSessionEvaluation\n",
    "from moabb.paradigms import LeftRightImagery\n",
    "\n",
    "import pyriemann\n",
    "\n",
    "import numpy as np\n",
    "\n",
    "\n",
    "moabb.set_log_level(\"info\")\n",
    "warnings.filterwarnings(\"ignore\")"
   ]
  },
  {
   "cell_type": "markdown",
   "source": [
    "## Instantiate a dataset"
   ],
   "metadata": {
    "collapsed": false
   },
   "id": "4330516cbf130308"
  },
  {
   "cell_type": "code",
   "outputs": [],
   "source": [
    "dataset = BNCI2014_001()\n",
    "dataset.subject_list = [1, 2, 3, 4]"
   ],
   "metadata": {
    "collapsed": false,
    "ExecuteTime": {
     "end_time": "2024-03-31T18:17:59.788306200Z",
     "start_time": "2024-03-31T18:17:59.772230300Z"
    }
   },
   "id": "1527f20db342485e",
   "execution_count": 17
  },
  {
   "cell_type": "markdown",
   "source": [
    "## Access EEG Recordings"
   ],
   "metadata": {
    "collapsed": false
   },
   "id": "a83eb3fa23205471"
  },
  {
   "cell_type": "code",
   "outputs": [
    {
     "name": "stderr",
     "output_type": "stream",
     "text": [
      "Downloading data from 'http://bnci-horizon-2020.eu/database/data-sets/001-2014/A01T.mat' to file 'C:\\Users\\sting\\mne_data\\MNE-bnci-data\\database\\data-sets\\001-2014\\A01T.mat'.\n"
     ]
    },
    {
     "name": "stdout",
     "output_type": "stream",
     "text": [
      "MNE_DATA is not already configured. It will be set to default location in the home directory - C:\\Users\\sting\\mne_data\n",
      "All datasets will be downloaded to this location, if anything is already downloaded, please move manually to this location\n"
     ]
    },
    {
     "name": "stderr",
     "output_type": "stream",
     "text": [
      "100%|#####################################| 42.8M/42.8M [00:00<00:00, 43.6GB/s]\n",
      "SHA256 hash of downloaded file: 054f02e70cf9c4ada1517e9b9864f45407939c1062c6793516585c6f511d0325\n",
      "Use this value as the 'known_hash' argument of 'pooch.retrieve' to ensure that the file hasn't changed if it is downloaded again in the future.\n",
      "Downloading data from 'http://bnci-horizon-2020.eu/database/data-sets/001-2014/A01E.mat' to file 'C:\\Users\\sting\\mne_data\\MNE-bnci-data\\database\\data-sets\\001-2014\\A01E.mat'.\n",
      "100%|#####################################| 43.8M/43.8M [00:00<00:00, 21.9GB/s]\n",
      "SHA256 hash of downloaded file: 53d415f39c3d7b0c88b894d7b08d99bcdfe855ede63831d3691af1a45607fb62\n",
      "Use this value as the 'known_hash' argument of 'pooch.retrieve' to ensure that the file hasn't changed if it is downloaded again in the future.\n",
      "Downloading data from 'http://bnci-horizon-2020.eu/database/data-sets/001-2014/A02T.mat' to file 'C:\\Users\\sting\\mne_data\\MNE-bnci-data\\database\\data-sets\\001-2014\\A02T.mat'.\n",
      "100%|#############################################| 43.1M/43.1M [00:00<?, ?B/s]\n",
      "SHA256 hash of downloaded file: 5ddd5cb520b1692c3ba1363f48d98f58f0e46f3699ee50d749947950fc39db27\n",
      "Use this value as the 'known_hash' argument of 'pooch.retrieve' to ensure that the file hasn't changed if it is downloaded again in the future.\n",
      "Downloading data from 'http://bnci-horizon-2020.eu/database/data-sets/001-2014/A02E.mat' to file 'C:\\Users\\sting\\mne_data\\MNE-bnci-data\\database\\data-sets\\001-2014\\A02E.mat'.\n",
      "100%|#####################################| 44.2M/44.2M [00:00<00:00, 39.6GB/s]\n",
      "SHA256 hash of downloaded file: d63c454005d3a9b41d8440629482e855afc823339bdd0b5721842a7ee9cc7b12\n",
      "Use this value as the 'known_hash' argument of 'pooch.retrieve' to ensure that the file hasn't changed if it is downloaded again in the future.\n"
     ]
    }
   ],
   "source": [
    "sessions = dataset.get_data(subjects=[1, 2])"
   ],
   "metadata": {
    "collapsed": false,
    "ExecuteTime": {
     "end_time": "2024-03-31T17:46:01.520867Z",
     "start_time": "2024-03-31T17:45:51.408993100Z"
    }
   },
   "id": "b3e4a5d8c97876f9",
   "execution_count": 3
  },
  {
   "cell_type": "markdown",
   "source": [
    "## Choose a Paradigm"
   ],
   "metadata": {
    "collapsed": false
   },
   "id": "b4a525055f6abfd0"
  },
  {
   "cell_type": "code",
   "outputs": [
    {
     "name": "stdout",
     "output_type": "stream",
     "text": [
      "imagery\n"
     ]
    }
   ],
   "source": [
    "print(dataset.paradigm)"
   ],
   "metadata": {
    "collapsed": false,
    "ExecuteTime": {
     "end_time": "2024-03-31T17:46:50.100506900Z",
     "start_time": "2024-03-31T17:46:50.065467500Z"
    }
   },
   "id": "4569a3201976288f",
   "execution_count": 4
  },
  {
   "cell_type": "code",
   "outputs": [],
   "source": [
    "paradigm = LeftRightImagery()"
   ],
   "metadata": {
    "collapsed": false,
    "ExecuteTime": {
     "end_time": "2024-03-31T17:46:56.174380900Z",
     "start_time": "2024-03-31T17:46:56.162286900Z"
    }
   },
   "id": "ba55adb0217bf4dd",
   "execution_count": 5
  },
  {
   "cell_type": "code",
   "outputs": [
    {
     "name": "stdout",
     "output_type": "stream",
     "text": [
      "[<moabb.datasets.bnci.BNCI2014_001 object at 0x000001E04AF87610>, <moabb.datasets.bnci.BNCI2014_004 object at 0x000001E04AF871F0>, <moabb.datasets.gigadb.Cho2017 object at 0x000001E04AF87A00>, <moabb.datasets.mpi_mi.GrosseWentrup2009 object at 0x000001E04AF87C10>, <moabb.datasets.Lee2019.Lee2019_MI object at 0x000001E04E048CA0>, <moabb.datasets.physionet_mi.PhysionetMI object at 0x000001E057F57EB0>, <moabb.datasets.schirrmeister2017.Schirrmeister2017 object at 0x000001E057F556C0>, <moabb.datasets.bbci_eeg_fnirs.Shin2017A object at 0x000001E057F57C40>, <moabb.datasets.Weibo2014.Weibo2014 object at 0x000001E057F556F0>, <moabb.datasets.Zhou2016.Zhou2016 object at 0x000001E057F82710>]\n"
     ]
    }
   ],
   "source": [
    "print(paradigm.datasets)"
   ],
   "metadata": {
    "collapsed": false,
    "ExecuteTime": {
     "end_time": "2024-03-31T17:47:28.070690100Z",
     "start_time": "2024-03-31T17:47:27.995754Z"
    }
   },
   "id": "aeaaa7130fec5fb5",
   "execution_count": 6
  },
  {
   "cell_type": "markdown",
   "source": [
    "## Unpack the dataset"
   ],
   "metadata": {
    "collapsed": false
   },
   "id": "47f59c913e8da2ff"
  },
  {
   "cell_type": "code",
   "outputs": [
    {
     "name": "stderr",
     "output_type": "stream",
     "text": [
      "Downloading data from 'http://bnci-horizon-2020.eu/database/data-sets/001-2014/A04T.mat' to file 'C:\\Users\\sting\\mne_data\\MNE-bnci-data\\database\\data-sets\\001-2014\\A04T.mat'.\n",
      "100%|#####################################| 37.2M/37.2M [00:00<00:00, 37.2GB/s]\n",
      "SHA256 hash of downloaded file: 15850d81b95fc88cc8b9589eb9b713d49fa071e28adaf32d675b3eaa30591d6e\n",
      "Use this value as the 'known_hash' argument of 'pooch.retrieve' to ensure that the file hasn't changed if it is downloaded again in the future.\n",
      "Downloading data from 'http://bnci-horizon-2020.eu/database/data-sets/001-2014/A04E.mat' to file 'C:\\Users\\sting\\mne_data\\MNE-bnci-data\\database\\data-sets\\001-2014\\A04E.mat'.\n",
      "100%|#####################################| 41.7M/41.7M [00:00<00:00, 41.6GB/s]\n",
      "SHA256 hash of downloaded file: 81916dff2c12997974ba50ffc311da006ea66e525010d010765f0047e771c86a\n",
      "Use this value as the 'known_hash' argument of 'pooch.retrieve' to ensure that the file hasn't changed if it is downloaded again in the future.\n"
     ]
    }
   ],
   "source": [
    "X, labels, meta = paradigm.get_data(dataset=dataset, subjects=[1, 2, 3, 4])"
   ],
   "metadata": {
    "collapsed": false,
    "ExecuteTime": {
     "end_time": "2024-03-31T18:18:35.694084900Z",
     "start_time": "2024-03-31T18:18:13.075253300Z"
    }
   },
   "id": "9a43d3511d3bd1d5",
   "execution_count": 18
  },
  {
   "cell_type": "code",
   "outputs": [
    {
     "name": "stdout",
     "output_type": "stream",
     "text": [
      "(1152, 22, 1001)\n"
     ]
    }
   ],
   "source": [
    "print(X.shape)"
   ],
   "metadata": {
    "collapsed": false,
    "ExecuteTime": {
     "end_time": "2024-03-31T20:27:52.204485900Z",
     "start_time": "2024-03-31T20:27:52.187448700Z"
    }
   },
   "id": "73f3cd79b7cbcbdf",
   "execution_count": 20
  },
  {
   "cell_type": "code",
   "outputs": [],
   "source": [],
   "metadata": {
    "collapsed": false
   },
   "id": "fca27ebb7bfb950"
  }
 ],
 "metadata": {
  "kernelspec": {
   "display_name": "Python 3",
   "language": "python",
   "name": "python3"
  },
  "language_info": {
   "codemirror_mode": {
    "name": "ipython",
    "version": 2
   },
   "file_extension": ".py",
   "mimetype": "text/x-python",
   "name": "python",
   "nbconvert_exporter": "python",
   "pygments_lexer": "ipython2",
   "version": "2.7.6"
  }
 },
 "nbformat": 4,
 "nbformat_minor": 5
}
