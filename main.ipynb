{
 "cells": [
  {
   "cell_type": "markdown",
   "source": [
    "# Rejection-based EEG Signal Classification"
   ],
   "metadata": {
    "collapsed": false
   },
   "id": "84dd4b03a4600510"
  },
  {
   "cell_type": "markdown",
   "source": [
    "## Import Libraries"
   ],
   "metadata": {
    "collapsed": false
   },
   "id": "3b8867c91c1dd6f4"
  },
  {
   "cell_type": "code",
   "execution_count": 61,
   "id": "initial_id",
   "metadata": {
    "collapsed": true,
    "ExecuteTime": {
     "end_time": "2024-04-02T13:40:52.006017500Z",
     "start_time": "2024-04-02T13:40:51.995014200Z"
    }
   },
   "outputs": [],
   "source": [
    "import warnings\n",
    "\n",
    "import matplotlib.pyplot as plt\n",
    "import pandas as pd\n",
    "import seaborn as sns\n",
    "\n",
    "from mne.decoding import CSP\n",
    "\n",
    "from sklearn.discriminant_analysis import LinearDiscriminantAnalysis as LDA\n",
    "from sklearn.linear_model import LogisticRegression\n",
    "from sklearn.metrics import accuracy_score\n",
    "from sklearn.naive_bayes import GaussianNB\n",
    "from sklearn.pipeline import make_pipeline\n",
    "\n",
    "import moabb\n",
    "from moabb.datasets import BNCI2014_001\n",
    "from moabb.evaluations import WithinSessionEvaluation\n",
    "from moabb.paradigms import LeftRightImagery\n",
    "\n",
    "import pyriemann\n",
    "\n",
    "import numpy as np\n",
    "\n",
    "\n",
    "moabb.set_log_level(\"info\")\n",
    "warnings.filterwarnings(\"ignore\")"
   ]
  },
  {
   "cell_type": "markdown",
   "source": [
    "## Instantiate a Dataset"
   ],
   "metadata": {
    "collapsed": false
   },
   "id": "4330516cbf130308"
  },
  {
   "cell_type": "code",
   "outputs": [],
   "source": [
    "dataset = BNCI2014_001()\n",
    "dataset.subject_list = [1, 2, 3, 4, 5, 6, 7, 8, 9]"
   ],
   "metadata": {
    "collapsed": false,
    "ExecuteTime": {
     "end_time": "2024-04-02T10:04:00.171324200Z",
     "start_time": "2024-04-02T10:04:00.070847900Z"
    }
   },
   "id": "1527f20db342485e",
   "execution_count": 37
  },
  {
   "cell_type": "markdown",
   "source": [
    "## Access EEG Recordings"
   ],
   "metadata": {
    "collapsed": false
   },
   "id": "a83eb3fa23205471"
  },
  {
   "cell_type": "markdown",
   "source": [
    "An example of recordings based on two subjects."
   ],
   "metadata": {
    "collapsed": false
   },
   "id": "70f403b39c6635a6"
  },
  {
   "cell_type": "code",
   "outputs": [],
   "source": [
    "sessions = dataset.get_data(subjects=[1, 2])"
   ],
   "metadata": {
    "collapsed": false
   },
   "id": "b8991768bece9842"
  },
  {
   "cell_type": "code",
   "outputs": [
    {
     "data": {
      "text/plain": "{1: {'0train': {'0': <RawArray | 26 x 96735 (386.9 s), ~19.2 MB, data loaded>,\n   '1': <RawArray | 26 x 96735 (386.9 s), ~19.2 MB, data loaded>,\n   '2': <RawArray | 26 x 96735 (386.9 s), ~19.2 MB, data loaded>,\n   '3': <RawArray | 26 x 96735 (386.9 s), ~19.2 MB, data loaded>,\n   '4': <RawArray | 26 x 96735 (386.9 s), ~19.2 MB, data loaded>,\n   '5': <RawArray | 26 x 96735 (386.9 s), ~19.2 MB, data loaded>},\n  '1test': {'0': <RawArray | 26 x 96735 (386.9 s), ~19.2 MB, data loaded>,\n   '1': <RawArray | 26 x 96735 (386.9 s), ~19.2 MB, data loaded>,\n   '2': <RawArray | 26 x 96735 (386.9 s), ~19.2 MB, data loaded>,\n   '3': <RawArray | 26 x 96735 (386.9 s), ~19.2 MB, data loaded>,\n   '4': <RawArray | 26 x 96735 (386.9 s), ~19.2 MB, data loaded>,\n   '5': <RawArray | 26 x 96735 (386.9 s), ~19.2 MB, data loaded>}},\n 2: {'0train': {'0': <RawArray | 26 x 96735 (386.9 s), ~19.2 MB, data loaded>,\n   '1': <RawArray | 26 x 96735 (386.9 s), ~19.2 MB, data loaded>,\n   '2': <RawArray | 26 x 96735 (386.9 s), ~19.2 MB, data loaded>,\n   '3': <RawArray | 26 x 96735 (386.9 s), ~19.2 MB, data loaded>,\n   '4': <RawArray | 26 x 96735 (386.9 s), ~19.2 MB, data loaded>,\n   '5': <RawArray | 26 x 96735 (386.9 s), ~19.2 MB, data loaded>},\n  '1test': {'0': <RawArray | 26 x 96735 (386.9 s), ~19.2 MB, data loaded>,\n   '1': <RawArray | 26 x 96735 (386.9 s), ~19.2 MB, data loaded>,\n   '2': <RawArray | 26 x 96735 (386.9 s), ~19.2 MB, data loaded>,\n   '3': <RawArray | 26 x 96735 (386.9 s), ~19.2 MB, data loaded>,\n   '4': <RawArray | 26 x 96735 (386.9 s), ~19.2 MB, data loaded>,\n   '5': <RawArray | 26 x 96735 (386.9 s), ~19.2 MB, data loaded>}}}"
     },
     "execution_count": 19,
     "metadata": {},
     "output_type": "execute_result"
    }
   ],
   "source": [
    "sessions"
   ],
   "metadata": {
    "collapsed": false,
    "ExecuteTime": {
     "end_time": "2024-04-02T09:55:03.280866200Z",
     "start_time": "2024-04-02T09:55:03.229967300Z"
    }
   },
   "id": "bfee8372ddae931f",
   "execution_count": 19
  },
  {
   "cell_type": "markdown",
   "source": [
    "## Choose a Paradigm"
   ],
   "metadata": {
    "collapsed": false
   },
   "id": "b4a525055f6abfd0"
  },
  {
   "cell_type": "code",
   "outputs": [
    {
     "name": "stdout",
     "output_type": "stream",
     "text": [
      "imagery\n"
     ]
    }
   ],
   "source": [
    "print(dataset.paradigm)"
   ],
   "metadata": {
    "collapsed": false,
    "ExecuteTime": {
     "end_time": "2024-04-02T09:49:14.151193Z",
     "start_time": "2024-04-02T09:49:14.136680100Z"
    }
   },
   "id": "4569a3201976288f",
   "execution_count": 4
  },
  {
   "cell_type": "code",
   "outputs": [],
   "source": [
    "paradigm = LeftRightImagery()"
   ],
   "metadata": {
    "collapsed": false,
    "ExecuteTime": {
     "end_time": "2024-04-02T09:49:14.246783300Z",
     "start_time": "2024-04-02T09:49:14.152229100Z"
    }
   },
   "id": "ba55adb0217bf4dd",
   "execution_count": 5
  },
  {
   "cell_type": "code",
   "outputs": [
    {
     "data": {
      "text/plain": "[<moabb.datasets.bnci.BNCI2014_001 at 0x200be96e950>,\n <moabb.datasets.bnci.BNCI2014_004 at 0x200be953a00>,\n <moabb.datasets.gigadb.Cho2017 at 0x200be9508b0>,\n <moabb.datasets.mpi_mi.GrosseWentrup2009 at 0x200be96e800>,\n <moabb.datasets.Lee2019.Lee2019_MI at 0x200be952380>,\n <moabb.datasets.physionet_mi.PhysionetMI at 0x200bc3efe80>,\n <moabb.datasets.schirrmeister2017.Schirrmeister2017 at 0x200bc3ef250>,\n <moabb.datasets.bbci_eeg_fnirs.Shin2017A at 0x200be863d60>,\n <moabb.datasets.Weibo2014.Weibo2014 at 0x200be863a30>,\n <moabb.datasets.Zhou2016.Zhou2016 at 0x200be8a52a0>]"
     },
     "execution_count": 50,
     "metadata": {},
     "output_type": "execute_result"
    }
   ],
   "source": [
    "paradigm.datasets"
   ],
   "metadata": {
    "collapsed": false,
    "ExecuteTime": {
     "end_time": "2024-04-02T10:10:47.688480900Z",
     "start_time": "2024-04-02T10:10:47.591291200Z"
    }
   },
   "id": "aeaaa7130fec5fb5",
   "execution_count": 50
  },
  {
   "cell_type": "markdown",
   "source": [
    "## Unpack the Dataset"
   ],
   "metadata": {
    "collapsed": false
   },
   "id": "47f59c913e8da2ff"
  },
  {
   "cell_type": "code",
   "outputs": [],
   "source": [
    "X, labels, meta = paradigm.get_data(dataset=dataset)"
   ],
   "metadata": {
    "collapsed": false,
    "ExecuteTime": {
     "end_time": "2024-04-02T10:04:41.082917600Z",
     "start_time": "2024-04-02T10:04:17.452169500Z"
    }
   },
   "id": "9a43d3511d3bd1d5",
   "execution_count": 38
  },
  {
   "cell_type": "code",
   "outputs": [
    {
     "name": "stdout",
     "output_type": "stream",
     "text": [
      "(2592, 22, 1001) <class 'numpy.ndarray'>\n"
     ]
    }
   ],
   "source": [
    "print(X.shape, type(X))"
   ],
   "metadata": {
    "collapsed": false,
    "ExecuteTime": {
     "end_time": "2024-04-02T10:08:58.647314900Z",
     "start_time": "2024-04-02T10:08:58.640986300Z"
    }
   },
   "id": "73f3cd79b7cbcbdf",
   "execution_count": 47
  },
  {
   "cell_type": "code",
   "outputs": [
    {
     "name": "stdout",
     "output_type": "stream",
     "text": [
      "['right_hand' 'left_hand' 'left_hand' ... 'left_hand' 'right_hand'\n",
      " 'left_hand'] \n",
      " <class 'numpy.ndarray'>\n",
      "The number of labels: 2592\n"
     ]
    }
   ],
   "source": [
    "print(labels, \"\\n\", type(labels))\n",
    "print(\"The number of labels:\", len(labels))"
   ],
   "metadata": {
    "collapsed": false,
    "ExecuteTime": {
     "end_time": "2024-04-02T10:10:02.551749300Z",
     "start_time": "2024-04-02T10:10:02.531760400Z"
    }
   },
   "id": "881dc25494be0c59",
   "execution_count": 48
  },
  {
   "cell_type": "code",
   "outputs": [
    {
     "name": "stdout",
     "output_type": "stream",
     "text": [
      "      subject session run\n",
      "0           1  0train   0\n",
      "1           1  0train   0\n",
      "2           1  0train   0\n",
      "3           1  0train   0\n",
      "4           1  0train   0\n",
      "...       ...     ...  ..\n",
      "2587        9   1test   5\n",
      "2588        9   1test   5\n",
      "2589        9   1test   5\n",
      "2590        9   1test   5\n",
      "2591        9   1test   5\n",
      "\n",
      "[2592 rows x 3 columns]\n"
     ]
    }
   ],
   "source": [
    "print(meta)"
   ],
   "metadata": {
    "collapsed": false,
    "ExecuteTime": {
     "end_time": "2024-04-02T10:10:31.627414300Z",
     "start_time": "2024-04-02T10:10:31.613004400Z"
    }
   },
   "id": "8662163e5b352cc6",
   "execution_count": 49
  },
  {
   "cell_type": "code",
   "outputs": [
    {
     "name": "stdout",
     "output_type": "stream",
     "text": [
      "['0train' '1test']\n"
     ]
    }
   ],
   "source": [
    "print(np.unique(meta[\"session\"]))"
   ],
   "metadata": {
    "collapsed": false,
    "ExecuteTime": {
     "end_time": "2024-04-02T10:12:09.049663700Z",
     "start_time": "2024-04-02T10:12:09.005934800Z"
    }
   },
   "id": "fca27ebb7bfb950",
   "execution_count": 51
  },
  {
   "cell_type": "markdown",
   "source": [
    "## Split the Data"
   ],
   "metadata": {
    "collapsed": false
   },
   "id": "e40815a1268e2dc1"
  },
  {
   "cell_type": "code",
   "outputs": [],
   "source": [
    "train_sessions = meta[meta[\"session\"] == \"0train\"]\n",
    "test_sessions = meta[meta[\"session\"] == \"1test\"]"
   ],
   "metadata": {
    "collapsed": false,
    "ExecuteTime": {
     "end_time": "2024-04-02T10:06:04.562528Z",
     "start_time": "2024-04-02T10:06:04.507251100Z"
    }
   },
   "id": "eb7b816fbae36099",
   "execution_count": 41
  },
  {
   "cell_type": "code",
   "outputs": [],
   "source": [
    "X_train = X[train_sessions.index]\n",
    "X_test = X[test_sessions.index]\n",
    "\n",
    "y_train = labels[train_sessions.index]\n",
    "y_test = labels[test_sessions.index]"
   ],
   "metadata": {
    "collapsed": false,
    "ExecuteTime": {
     "end_time": "2024-04-02T10:15:26.300529200Z",
     "start_time": "2024-04-02T10:15:26.114022500Z"
    }
   },
   "id": "22fb214dfdfba04e",
   "execution_count": 52
  },
  {
   "cell_type": "markdown",
   "source": [
    "## Create a Pipeline"
   ],
   "metadata": {
    "collapsed": false
   },
   "id": "8c689899a8b923b7"
  },
  {
   "cell_type": "code",
   "outputs": [],
   "source": [
    "pipeline = make_pipeline(CSP(n_components=8), LogisticRegression())"
   ],
   "metadata": {
    "collapsed": false,
    "ExecuteTime": {
     "end_time": "2024-04-02T13:46:06.445456Z",
     "start_time": "2024-04-02T13:46:06.413291400Z"
    }
   },
   "id": "e8c85bc399f3a6e3",
   "execution_count": 62
  },
  {
   "cell_type": "markdown",
   "source": [
    "## Evaluate a Solution"
   ],
   "metadata": {
    "collapsed": false
   },
   "id": "3b3a0406ee22a71e"
  },
  {
   "cell_type": "code",
   "outputs": [],
   "source": [
    "evaluation = WithinSessionEvaluation(\n",
    "    paradigm=paradigm,\n",
    "    datasets=[dataset],\n",
    "    overwrite=True,\n",
    "    hdf5_path=None,\n",
    ")"
   ],
   "metadata": {
    "collapsed": false,
    "ExecuteTime": {
     "end_time": "2024-04-02T13:47:13.911667500Z",
     "start_time": "2024-04-02T13:47:13.549923600Z"
    }
   },
   "id": "df58013cb295f758",
   "execution_count": 63
  },
  {
   "cell_type": "code",
   "outputs": [
    {
     "name": "stderr",
     "output_type": "stream",
     "text": [
      "2024-04-02 16:47:25,598 INFO MainThread moabb.evaluations.base Processing dataset: BNCI2014-001\n",
      "BNCI2014-001-WithinSession:   0%|          | 0/9 [00:00<?, ?it/s]"
     ]
    },
    {
     "name": "stdout",
     "output_type": "stream",
     "text": [
      "No hdf5_path provided, models will not be saved.\n"
     ]
    },
    {
     "name": "stderr",
     "output_type": "stream",
     "text": [
      "2024-04-02 16:47:30,328 INFO MainThread moabb.evaluations.base csp+lr | BNCI2014-001 | 1 | 0train: Score 0.952\n"
     ]
    },
    {
     "name": "stdout",
     "output_type": "stream",
     "text": [
      "No hdf5_path provided, models will not be saved.\n"
     ]
    },
    {
     "name": "stderr",
     "output_type": "stream",
     "text": [
      "2024-04-02 16:47:31,874 INFO MainThread moabb.evaluations.base csp+lr | BNCI2014-001 | 1 | 1test: Score 0.972\n",
      "BNCI2014-001-WithinSession:  11%|█         | 1/9 [00:06<00:51,  6.45s/it]"
     ]
    },
    {
     "name": "stdout",
     "output_type": "stream",
     "text": [
      "No hdf5_path provided, models will not be saved.\n"
     ]
    },
    {
     "name": "stderr",
     "output_type": "stream",
     "text": [
      "2024-04-02 16:47:36,003 INFO MainThread moabb.evaluations.base csp+lr | BNCI2014-001 | 2 | 0train: Score 0.578\n"
     ]
    },
    {
     "name": "stdout",
     "output_type": "stream",
     "text": [
      "No hdf5_path provided, models will not be saved.\n"
     ]
    },
    {
     "name": "stderr",
     "output_type": "stream",
     "text": [
      "2024-04-02 16:47:37,320 INFO MainThread moabb.evaluations.base csp+lr | BNCI2014-001 | 2 | 1test: Score 0.671\n",
      "BNCI2014-001-WithinSession:  22%|██▏       | 2/9 [00:11<00:41,  5.88s/it]"
     ]
    },
    {
     "name": "stdout",
     "output_type": "stream",
     "text": [
      "No hdf5_path provided, models will not be saved.\n"
     ]
    },
    {
     "name": "stderr",
     "output_type": "stream",
     "text": [
      "2024-04-02 16:47:41,543 INFO MainThread moabb.evaluations.base csp+lr | BNCI2014-001 | 3 | 0train: Score 0.995\n"
     ]
    },
    {
     "name": "stdout",
     "output_type": "stream",
     "text": [
      "No hdf5_path provided, models will not be saved.\n"
     ]
    },
    {
     "name": "stderr",
     "output_type": "stream",
     "text": [
      "2024-04-02 16:47:42,915 INFO MainThread moabb.evaluations.base csp+lr | BNCI2014-001 | 3 | 1test: Score 0.996\n",
      "BNCI2014-001-WithinSession:  33%|███▎      | 3/9 [00:17<00:34,  5.73s/it]"
     ]
    },
    {
     "name": "stdout",
     "output_type": "stream",
     "text": [
      "No hdf5_path provided, models will not be saved.\n"
     ]
    },
    {
     "name": "stderr",
     "output_type": "stream",
     "text": [
      "2024-04-02 16:47:47,359 INFO MainThread moabb.evaluations.base csp+lr | BNCI2014-001 | 4 | 0train: Score 0.830\n"
     ]
    },
    {
     "name": "stdout",
     "output_type": "stream",
     "text": [
      "No hdf5_path provided, models will not be saved.\n"
     ]
    },
    {
     "name": "stderr",
     "output_type": "stream",
     "text": [
      "2024-04-02 16:47:48,648 INFO MainThread moabb.evaluations.base csp+lr | BNCI2014-001 | 4 | 1test: Score 0.826\n",
      "BNCI2014-001-WithinSession:  44%|████▍     | 4/9 [00:23<00:28,  5.72s/it]"
     ]
    },
    {
     "name": "stdout",
     "output_type": "stream",
     "text": [
      "No hdf5_path provided, models will not be saved.\n"
     ]
    },
    {
     "name": "stderr",
     "output_type": "stream",
     "text": [
      "2024-04-02 16:47:52,701 INFO MainThread moabb.evaluations.base csp+lr | BNCI2014-001 | 5 | 0train: Score 0.538\n"
     ]
    },
    {
     "name": "stdout",
     "output_type": "stream",
     "text": [
      "No hdf5_path provided, models will not be saved.\n"
     ]
    },
    {
     "name": "stderr",
     "output_type": "stream",
     "text": [
      "2024-04-02 16:47:53,956 INFO MainThread moabb.evaluations.base csp+lr | BNCI2014-001 | 5 | 1test: Score 0.603\n",
      "BNCI2014-001-WithinSession:  56%|█████▌    | 5/9 [00:28<00:22,  5.57s/it]"
     ]
    },
    {
     "name": "stdout",
     "output_type": "stream",
     "text": [
      "No hdf5_path provided, models will not be saved.\n"
     ]
    },
    {
     "name": "stderr",
     "output_type": "stream",
     "text": [
      "2024-04-02 16:47:57,998 INFO MainThread moabb.evaluations.base csp+lr | BNCI2014-001 | 6 | 0train: Score 0.774\n"
     ]
    },
    {
     "name": "stdout",
     "output_type": "stream",
     "text": [
      "No hdf5_path provided, models will not be saved.\n"
     ]
    },
    {
     "name": "stderr",
     "output_type": "stream",
     "text": [
      "2024-04-02 16:47:59,258 INFO MainThread moabb.evaluations.base csp+lr | BNCI2014-001 | 6 | 1test: Score 0.796\n",
      "BNCI2014-001-WithinSession:  67%|██████▋   | 6/9 [00:33<00:16,  5.49s/it]"
     ]
    },
    {
     "name": "stdout",
     "output_type": "stream",
     "text": [
      "No hdf5_path provided, models will not be saved.\n"
     ]
    },
    {
     "name": "stderr",
     "output_type": "stream",
     "text": [
      "2024-04-02 16:48:03,334 INFO MainThread moabb.evaluations.base csp+lr | BNCI2014-001 | 7 | 0train: Score 0.817\n"
     ]
    },
    {
     "name": "stdout",
     "output_type": "stream",
     "text": [
      "No hdf5_path provided, models will not be saved.\n"
     ]
    },
    {
     "name": "stderr",
     "output_type": "stream",
     "text": [
      "2024-04-02 16:48:04,615 INFO MainThread moabb.evaluations.base csp+lr | BNCI2014-001 | 7 | 1test: Score 0.969\n",
      "BNCI2014-001-WithinSession:  78%|███████▊  | 7/9 [00:39<00:10,  5.44s/it]"
     ]
    },
    {
     "name": "stdout",
     "output_type": "stream",
     "text": [
      "No hdf5_path provided, models will not be saved.\n"
     ]
    },
    {
     "name": "stderr",
     "output_type": "stream",
     "text": [
      "2024-04-02 16:48:08,727 INFO MainThread moabb.evaluations.base csp+lr | BNCI2014-001 | 8 | 0train: Score 0.999\n"
     ]
    },
    {
     "name": "stdout",
     "output_type": "stream",
     "text": [
      "No hdf5_path provided, models will not be saved.\n"
     ]
    },
    {
     "name": "stderr",
     "output_type": "stream",
     "text": [
      "2024-04-02 16:48:09,985 INFO MainThread moabb.evaluations.base csp+lr | BNCI2014-001 | 8 | 1test: Score 0.998\n",
      "BNCI2014-001-WithinSession:  89%|████████▉ | 8/9 [00:44<00:05,  5.42s/it]"
     ]
    },
    {
     "name": "stdout",
     "output_type": "stream",
     "text": [
      "No hdf5_path provided, models will not be saved.\n"
     ]
    },
    {
     "name": "stderr",
     "output_type": "stream",
     "text": [
      "2024-04-02 16:48:14,156 INFO MainThread moabb.evaluations.base csp+lr | BNCI2014-001 | 9 | 0train: Score 0.848\n"
     ]
    },
    {
     "name": "stdout",
     "output_type": "stream",
     "text": [
      "No hdf5_path provided, models will not be saved.\n"
     ]
    },
    {
     "name": "stderr",
     "output_type": "stream",
     "text": [
      "2024-04-02 16:48:15,455 INFO MainThread moabb.evaluations.base csp+lr | BNCI2014-001 | 9 | 1test: Score 0.962\n",
      "BNCI2014-001-WithinSession: 100%|██████████| 9/9 [00:49<00:00,  5.56s/it]\n"
     ]
    }
   ],
   "source": [
    "results = evaluation.process({\"csp+lr\": pipeline})"
   ],
   "metadata": {
    "collapsed": false,
    "ExecuteTime": {
     "end_time": "2024-04-02T13:48:15.801700600Z",
     "start_time": "2024-04-02T13:47:25.599782600Z"
    }
   },
   "id": "8b2c28a36d218692",
   "execution_count": 64
  },
  {
   "cell_type": "code",
   "outputs": [],
   "source": [
    "results.to_csv(\"./results_test.csv\")"
   ],
   "metadata": {
    "collapsed": false,
    "ExecuteTime": {
     "end_time": "2024-04-02T13:49:04.682745300Z",
     "start_time": "2024-04-02T13:49:04.545308600Z"
    }
   },
   "id": "67bb4f12dfaecc66",
   "execution_count": 65
  },
  {
   "cell_type": "code",
   "outputs": [],
   "source": [
    "results = pd.read_csv(\"./results_test.csv\")"
   ],
   "metadata": {
    "collapsed": false,
    "ExecuteTime": {
     "end_time": "2024-04-02T13:49:06.249555900Z",
     "start_time": "2024-04-02T13:49:06.087223200Z"
    }
   },
   "id": "bfb291c318b374d5",
   "execution_count": 66
  },
  {
   "cell_type": "markdown",
   "source": [
    "## Plot the Results"
   ],
   "metadata": {
    "collapsed": false
   },
   "id": "8b4b029b820be4f3"
  },
  {
   "cell_type": "code",
   "outputs": [
    {
     "data": {
      "text/plain": "<Figure size 800x700 with 1 Axes>",
      "image/png": "[encoded data removed]"
     },
     "metadata": {},
     "output_type": "display_data"
    }
   ],
   "source": [
    "fig, ax = plt.subplots(figsize=(8, 7))\n",
    "results[\"subj\"] = results[\"subject\"].apply(str)\n",
    "sns.barplot(\n",
    "    x=\"score\", y=\"subj\", hue=\"session\", data=results, orient=\"h\", palette=\"viridis\", ax=ax\n",
    ")\n",
    "plt.show()"
   ],
   "metadata": {
    "collapsed": false,
    "ExecuteTime": {
     "end_time": "2024-04-02T13:50:00.801232100Z",
     "start_time": "2024-04-02T13:49:59.154748300Z"
    }
   },
   "id": "e2746b9ec615c21c",
   "execution_count": 67
  },
  {
   "cell_type": "markdown",
   "source": [
    "## Define a Range of Sample Sizes"
   ],
   "metadata": {
    "collapsed": false
   },
   "id": "54622b0288384287"
  },
  {
   "cell_type": "code",
   "outputs": [],
   "source": [
    "min_sample_size = 50\n",
    "max_sample_size = len(X_train)\n",
    "step_size = 50\n",
    "\n",
    "sample_sizes = np.arange(min_sample_size, max_sample_size + step_size, step_size)"
   ],
   "metadata": {
    "collapsed": false,
    "ExecuteTime": {
     "end_time": "2024-04-02T10:19:39.651106100Z",
     "start_time": "2024-04-02T10:19:39.491829700Z"
    }
   },
   "id": "db93b7d30b6a846b",
   "execution_count": 54
  },
  {
   "cell_type": "markdown",
   "source": [
    "## Train a Model"
   ],
   "metadata": {
    "collapsed": false
   },
   "id": "4da5cf83146e4448"
  },
  {
   "cell_type": "code",
   "outputs": [],
   "source": [
    "lr = LogisticRegression()\n",
    "csp = CSP(n_components=4, reg='ledoit_wolf', log=True)\n",
    "clf = Pipeline([('CSP', csp), ('LogisticRegression', lr)])\n",
    "\n",
    "scores = cross_val_score(clf, epochs_data_train, labels, cv=cv, n_jobs=1)"
   ],
   "metadata": {
    "collapsed": false
   },
   "id": "f961377947e10180"
  },
  {
   "cell_type": "code",
   "outputs": [
    {
     "ename": "ValueError",
     "evalue": "Found array with dim 3. LogisticRegression expected <= 2.",
     "output_type": "error",
     "traceback": [
      "\u001B[1;31m---------------------------------------------------------------------------\u001B[0m",
      "\u001B[1;31mValueError\u001B[0m                                Traceback (most recent call last)",
      "Cell \u001B[1;32mIn[56], line 10\u001B[0m\n\u001B[0;32m      8\u001B[0m \u001B[38;5;66;03m# Train a logistic regression model.\u001B[39;00m\n\u001B[0;32m      9\u001B[0m model \u001B[38;5;241m=\u001B[39m LogisticRegression()\n\u001B[1;32m---> 10\u001B[0m \u001B[43mmodel\u001B[49m\u001B[38;5;241;43m.\u001B[39;49m\u001B[43mfit\u001B[49m\u001B[43m(\u001B[49m\u001B[43mX_subset\u001B[49m\u001B[43m,\u001B[49m\u001B[43m \u001B[49m\u001B[43my_subset\u001B[49m\u001B[43m)\u001B[49m\n\u001B[0;32m     12\u001B[0m \u001B[38;5;66;03m# Make predictions on the test set.\u001B[39;00m\n\u001B[0;32m     13\u001B[0m y_pred \u001B[38;5;241m=\u001B[39m model\u001B[38;5;241m.\u001B[39mpredict(X_test)\n",
      "File \u001B[1;32m~\\AppData\\Local\\Programs\\Python\\Python310\\lib\\site-packages\\sklearn\\base.py:1474\u001B[0m, in \u001B[0;36m_fit_context.<locals>.decorator.<locals>.wrapper\u001B[1;34m(estimator, *args, **kwargs)\u001B[0m\n\u001B[0;32m   1467\u001B[0m     estimator\u001B[38;5;241m.\u001B[39m_validate_params()\n\u001B[0;32m   1469\u001B[0m \u001B[38;5;28;01mwith\u001B[39;00m config_context(\n\u001B[0;32m   1470\u001B[0m     skip_parameter_validation\u001B[38;5;241m=\u001B[39m(\n\u001B[0;32m   1471\u001B[0m         prefer_skip_nested_validation \u001B[38;5;129;01mor\u001B[39;00m global_skip_validation\n\u001B[0;32m   1472\u001B[0m     )\n\u001B[0;32m   1473\u001B[0m ):\n\u001B[1;32m-> 1474\u001B[0m     \u001B[38;5;28;01mreturn\u001B[39;00m fit_method(estimator, \u001B[38;5;241m*\u001B[39margs, \u001B[38;5;241m*\u001B[39m\u001B[38;5;241m*\u001B[39mkwargs)\n",
      "File \u001B[1;32m~\\AppData\\Local\\Programs\\Python\\Python310\\lib\\site-packages\\sklearn\\linear_model\\_logistic.py:1201\u001B[0m, in \u001B[0;36mLogisticRegression.fit\u001B[1;34m(self, X, y, sample_weight)\u001B[0m\n\u001B[0;32m   1198\u001B[0m \u001B[38;5;28;01melse\u001B[39;00m:\n\u001B[0;32m   1199\u001B[0m     _dtype \u001B[38;5;241m=\u001B[39m [np\u001B[38;5;241m.\u001B[39mfloat64, np\u001B[38;5;241m.\u001B[39mfloat32]\n\u001B[1;32m-> 1201\u001B[0m X, y \u001B[38;5;241m=\u001B[39m \u001B[38;5;28;43mself\u001B[39;49m\u001B[38;5;241;43m.\u001B[39;49m\u001B[43m_validate_data\u001B[49m\u001B[43m(\u001B[49m\n\u001B[0;32m   1202\u001B[0m \u001B[43m    \u001B[49m\u001B[43mX\u001B[49m\u001B[43m,\u001B[49m\n\u001B[0;32m   1203\u001B[0m \u001B[43m    \u001B[49m\u001B[43my\u001B[49m\u001B[43m,\u001B[49m\n\u001B[0;32m   1204\u001B[0m \u001B[43m    \u001B[49m\u001B[43maccept_sparse\u001B[49m\u001B[38;5;241;43m=\u001B[39;49m\u001B[38;5;124;43m\"\u001B[39;49m\u001B[38;5;124;43mcsr\u001B[39;49m\u001B[38;5;124;43m\"\u001B[39;49m\u001B[43m,\u001B[49m\n\u001B[0;32m   1205\u001B[0m \u001B[43m    \u001B[49m\u001B[43mdtype\u001B[49m\u001B[38;5;241;43m=\u001B[39;49m\u001B[43m_dtype\u001B[49m\u001B[43m,\u001B[49m\n\u001B[0;32m   1206\u001B[0m \u001B[43m    \u001B[49m\u001B[43morder\u001B[49m\u001B[38;5;241;43m=\u001B[39;49m\u001B[38;5;124;43m\"\u001B[39;49m\u001B[38;5;124;43mC\u001B[39;49m\u001B[38;5;124;43m\"\u001B[39;49m\u001B[43m,\u001B[49m\n\u001B[0;32m   1207\u001B[0m \u001B[43m    \u001B[49m\u001B[43maccept_large_sparse\u001B[49m\u001B[38;5;241;43m=\u001B[39;49m\u001B[43msolver\u001B[49m\u001B[43m \u001B[49m\u001B[38;5;129;43;01mnot\u001B[39;49;00m\u001B[43m \u001B[49m\u001B[38;5;129;43;01min\u001B[39;49;00m\u001B[43m \u001B[49m\u001B[43m[\u001B[49m\u001B[38;5;124;43m\"\u001B[39;49m\u001B[38;5;124;43mliblinear\u001B[39;49m\u001B[38;5;124;43m\"\u001B[39;49m\u001B[43m,\u001B[49m\u001B[43m \u001B[49m\u001B[38;5;124;43m\"\u001B[39;49m\u001B[38;5;124;43msag\u001B[39;49m\u001B[38;5;124;43m\"\u001B[39;49m\u001B[43m,\u001B[49m\u001B[43m \u001B[49m\u001B[38;5;124;43m\"\u001B[39;49m\u001B[38;5;124;43msaga\u001B[39;49m\u001B[38;5;124;43m\"\u001B[39;49m\u001B[43m]\u001B[49m\u001B[43m,\u001B[49m\n\u001B[0;32m   1208\u001B[0m \u001B[43m\u001B[49m\u001B[43m)\u001B[49m\n\u001B[0;32m   1209\u001B[0m check_classification_targets(y)\n\u001B[0;32m   1210\u001B[0m \u001B[38;5;28mself\u001B[39m\u001B[38;5;241m.\u001B[39mclasses_ \u001B[38;5;241m=\u001B[39m np\u001B[38;5;241m.\u001B[39munique(y)\n",
      "File \u001B[1;32m~\\AppData\\Local\\Programs\\Python\\Python310\\lib\\site-packages\\sklearn\\base.py:650\u001B[0m, in \u001B[0;36mBaseEstimator._validate_data\u001B[1;34m(self, X, y, reset, validate_separately, cast_to_ndarray, **check_params)\u001B[0m\n\u001B[0;32m    648\u001B[0m         y \u001B[38;5;241m=\u001B[39m check_array(y, input_name\u001B[38;5;241m=\u001B[39m\u001B[38;5;124m\"\u001B[39m\u001B[38;5;124my\u001B[39m\u001B[38;5;124m\"\u001B[39m, \u001B[38;5;241m*\u001B[39m\u001B[38;5;241m*\u001B[39mcheck_y_params)\n\u001B[0;32m    649\u001B[0m     \u001B[38;5;28;01melse\u001B[39;00m:\n\u001B[1;32m--> 650\u001B[0m         X, y \u001B[38;5;241m=\u001B[39m check_X_y(X, y, \u001B[38;5;241m*\u001B[39m\u001B[38;5;241m*\u001B[39mcheck_params)\n\u001B[0;32m    651\u001B[0m     out \u001B[38;5;241m=\u001B[39m X, y\n\u001B[0;32m    653\u001B[0m \u001B[38;5;28;01mif\u001B[39;00m \u001B[38;5;129;01mnot\u001B[39;00m no_val_X \u001B[38;5;129;01mand\u001B[39;00m check_params\u001B[38;5;241m.\u001B[39mget(\u001B[38;5;124m\"\u001B[39m\u001B[38;5;124mensure_2d\u001B[39m\u001B[38;5;124m\"\u001B[39m, \u001B[38;5;28;01mTrue\u001B[39;00m):\n",
      "File \u001B[1;32m~\\AppData\\Local\\Programs\\Python\\Python310\\lib\\site-packages\\sklearn\\utils\\validation.py:1263\u001B[0m, in \u001B[0;36mcheck_X_y\u001B[1;34m(X, y, accept_sparse, accept_large_sparse, dtype, order, copy, force_all_finite, ensure_2d, allow_nd, multi_output, ensure_min_samples, ensure_min_features, y_numeric, estimator)\u001B[0m\n\u001B[0;32m   1258\u001B[0m         estimator_name \u001B[38;5;241m=\u001B[39m _check_estimator_name(estimator)\n\u001B[0;32m   1259\u001B[0m     \u001B[38;5;28;01mraise\u001B[39;00m \u001B[38;5;167;01mValueError\u001B[39;00m(\n\u001B[0;32m   1260\u001B[0m         \u001B[38;5;124mf\u001B[39m\u001B[38;5;124m\"\u001B[39m\u001B[38;5;132;01m{\u001B[39;00mestimator_name\u001B[38;5;132;01m}\u001B[39;00m\u001B[38;5;124m requires y to be passed, but the target y is None\u001B[39m\u001B[38;5;124m\"\u001B[39m\n\u001B[0;32m   1261\u001B[0m     )\n\u001B[1;32m-> 1263\u001B[0m X \u001B[38;5;241m=\u001B[39m \u001B[43mcheck_array\u001B[49m\u001B[43m(\u001B[49m\n\u001B[0;32m   1264\u001B[0m \u001B[43m    \u001B[49m\u001B[43mX\u001B[49m\u001B[43m,\u001B[49m\n\u001B[0;32m   1265\u001B[0m \u001B[43m    \u001B[49m\u001B[43maccept_sparse\u001B[49m\u001B[38;5;241;43m=\u001B[39;49m\u001B[43maccept_sparse\u001B[49m\u001B[43m,\u001B[49m\n\u001B[0;32m   1266\u001B[0m \u001B[43m    \u001B[49m\u001B[43maccept_large_sparse\u001B[49m\u001B[38;5;241;43m=\u001B[39;49m\u001B[43maccept_large_sparse\u001B[49m\u001B[43m,\u001B[49m\n\u001B[0;32m   1267\u001B[0m \u001B[43m    \u001B[49m\u001B[43mdtype\u001B[49m\u001B[38;5;241;43m=\u001B[39;49m\u001B[43mdtype\u001B[49m\u001B[43m,\u001B[49m\n\u001B[0;32m   1268\u001B[0m \u001B[43m    \u001B[49m\u001B[43morder\u001B[49m\u001B[38;5;241;43m=\u001B[39;49m\u001B[43morder\u001B[49m\u001B[43m,\u001B[49m\n\u001B[0;32m   1269\u001B[0m \u001B[43m    \u001B[49m\u001B[43mcopy\u001B[49m\u001B[38;5;241;43m=\u001B[39;49m\u001B[43mcopy\u001B[49m\u001B[43m,\u001B[49m\n\u001B[0;32m   1270\u001B[0m \u001B[43m    \u001B[49m\u001B[43mforce_all_finite\u001B[49m\u001B[38;5;241;43m=\u001B[39;49m\u001B[43mforce_all_finite\u001B[49m\u001B[43m,\u001B[49m\n\u001B[0;32m   1271\u001B[0m \u001B[43m    \u001B[49m\u001B[43mensure_2d\u001B[49m\u001B[38;5;241;43m=\u001B[39;49m\u001B[43mensure_2d\u001B[49m\u001B[43m,\u001B[49m\n\u001B[0;32m   1272\u001B[0m \u001B[43m    \u001B[49m\u001B[43mallow_nd\u001B[49m\u001B[38;5;241;43m=\u001B[39;49m\u001B[43mallow_nd\u001B[49m\u001B[43m,\u001B[49m\n\u001B[0;32m   1273\u001B[0m \u001B[43m    \u001B[49m\u001B[43mensure_min_samples\u001B[49m\u001B[38;5;241;43m=\u001B[39;49m\u001B[43mensure_min_samples\u001B[49m\u001B[43m,\u001B[49m\n\u001B[0;32m   1274\u001B[0m \u001B[43m    \u001B[49m\u001B[43mensure_min_features\u001B[49m\u001B[38;5;241;43m=\u001B[39;49m\u001B[43mensure_min_features\u001B[49m\u001B[43m,\u001B[49m\n\u001B[0;32m   1275\u001B[0m \u001B[43m    \u001B[49m\u001B[43mestimator\u001B[49m\u001B[38;5;241;43m=\u001B[39;49m\u001B[43mestimator\u001B[49m\u001B[43m,\u001B[49m\n\u001B[0;32m   1276\u001B[0m \u001B[43m    \u001B[49m\u001B[43minput_name\u001B[49m\u001B[38;5;241;43m=\u001B[39;49m\u001B[38;5;124;43m\"\u001B[39;49m\u001B[38;5;124;43mX\u001B[39;49m\u001B[38;5;124;43m\"\u001B[39;49m\u001B[43m,\u001B[49m\n\u001B[0;32m   1277\u001B[0m \u001B[43m\u001B[49m\u001B[43m)\u001B[49m\n\u001B[0;32m   1279\u001B[0m y \u001B[38;5;241m=\u001B[39m _check_y(y, multi_output\u001B[38;5;241m=\u001B[39mmulti_output, y_numeric\u001B[38;5;241m=\u001B[39my_numeric, estimator\u001B[38;5;241m=\u001B[39mestimator)\n\u001B[0;32m   1281\u001B[0m check_consistent_length(X, y)\n",
      "File \u001B[1;32m~\\AppData\\Local\\Programs\\Python\\Python310\\lib\\site-packages\\sklearn\\utils\\validation.py:1043\u001B[0m, in \u001B[0;36mcheck_array\u001B[1;34m(array, accept_sparse, accept_large_sparse, dtype, order, copy, force_all_finite, ensure_2d, allow_nd, ensure_min_samples, ensure_min_features, estimator, input_name)\u001B[0m\n\u001B[0;32m   1038\u001B[0m     \u001B[38;5;28;01mraise\u001B[39;00m \u001B[38;5;167;01mValueError\u001B[39;00m(\n\u001B[0;32m   1039\u001B[0m         \u001B[38;5;124m\"\u001B[39m\u001B[38;5;124mdtype=\u001B[39m\u001B[38;5;124m'\u001B[39m\u001B[38;5;124mnumeric\u001B[39m\u001B[38;5;124m'\u001B[39m\u001B[38;5;124m is not compatible with arrays of bytes/strings.\u001B[39m\u001B[38;5;124m\"\u001B[39m\n\u001B[0;32m   1040\u001B[0m         \u001B[38;5;124m\"\u001B[39m\u001B[38;5;124mConvert your data to numeric values explicitly instead.\u001B[39m\u001B[38;5;124m\"\u001B[39m\n\u001B[0;32m   1041\u001B[0m     )\n\u001B[0;32m   1042\u001B[0m \u001B[38;5;28;01mif\u001B[39;00m \u001B[38;5;129;01mnot\u001B[39;00m allow_nd \u001B[38;5;129;01mand\u001B[39;00m array\u001B[38;5;241m.\u001B[39mndim \u001B[38;5;241m>\u001B[39m\u001B[38;5;241m=\u001B[39m \u001B[38;5;241m3\u001B[39m:\n\u001B[1;32m-> 1043\u001B[0m     \u001B[38;5;28;01mraise\u001B[39;00m \u001B[38;5;167;01mValueError\u001B[39;00m(\n\u001B[0;32m   1044\u001B[0m         \u001B[38;5;124m\"\u001B[39m\u001B[38;5;124mFound array with dim \u001B[39m\u001B[38;5;132;01m%d\u001B[39;00m\u001B[38;5;124m. \u001B[39m\u001B[38;5;132;01m%s\u001B[39;00m\u001B[38;5;124m expected <= 2.\u001B[39m\u001B[38;5;124m\"\u001B[39m\n\u001B[0;32m   1045\u001B[0m         \u001B[38;5;241m%\u001B[39m (array\u001B[38;5;241m.\u001B[39mndim, estimator_name)\n\u001B[0;32m   1046\u001B[0m     )\n\u001B[0;32m   1048\u001B[0m \u001B[38;5;28;01mif\u001B[39;00m force_all_finite:\n\u001B[0;32m   1049\u001B[0m     _assert_all_finite(\n\u001B[0;32m   1050\u001B[0m         array,\n\u001B[0;32m   1051\u001B[0m         input_name\u001B[38;5;241m=\u001B[39minput_name,\n\u001B[0;32m   1052\u001B[0m         estimator_name\u001B[38;5;241m=\u001B[39mestimator_name,\n\u001B[0;32m   1053\u001B[0m         allow_nan\u001B[38;5;241m=\u001B[39mforce_all_finite \u001B[38;5;241m==\u001B[39m \u001B[38;5;124m\"\u001B[39m\u001B[38;5;124mallow-nan\u001B[39m\u001B[38;5;124m\"\u001B[39m,\n\u001B[0;32m   1054\u001B[0m     )\n",
      "\u001B[1;31mValueError\u001B[0m: Found array with dim 3. LogisticRegression expected <= 2."
     ]
    }
   ],
   "source": [
    "accuracies = []\n",
    "for size in sample_sizes:\n",
    "    # Randomly select a subset of the training data.\n",
    "    indices = np.random.choice(len(X_train), size=size, replace=False)\n",
    "    X_subset = X_train[indices]\n",
    "    y_subset = y_train[indices]\n",
    "    \n",
    "    # Train a logistic regression model.\n",
    "    model = LogisticRegression()\n",
    "    model.fit(X_subset, y_subset)\n",
    "    \n",
    "    # Make predictions on the test set.\n",
    "    y_pred = model.predict(X_test)\n",
    "    \n",
    "    # Calculate accuracy and store it.\n",
    "    accuracy = accuracy_score(y_test, y_pred)\n",
    "    accuracies.append(accuracy)"
   ],
   "metadata": {
    "collapsed": false,
    "ExecuteTime": {
     "end_time": "2024-04-02T10:22:50.282655500Z",
     "start_time": "2024-04-02T10:22:49.428809300Z"
    }
   },
   "id": "ee5726306c42fab3",
   "execution_count": 56
  }
 ],
 "metadata": {
  "kernelspec": {
   "display_name": "Python 3",
   "language": "python",
   "name": "python3"
  },
  "language_info": {
   "codemirror_mode": {
    "name": "ipython",
    "version": 2
   },
   "file_extension": ".py",
   "mimetype": "text/x-python",
   "name": "python",
   "nbconvert_exporter": "python",
   "pygments_lexer": "ipython2",
   "version": "2.7.6"
  }
 },
 "nbformat": 4,
 "nbformat_minor": 5
}
